{
 "cells": [
  {
   "cell_type": "code",
   "execution_count": 1,
   "id": "637c389a-93e1-4a23-be8d-1409f3b57c40",
   "metadata": {},
   "outputs": [],
   "source": [
    "import numpy as np"
   ]
  },
  {
   "cell_type": "markdown",
   "id": "4dddc1ce-89bb-4b61-bd6e-a719740920a9",
   "metadata": {},
   "source": [
    "### Vector-vector multiplication"
   ]
  },
  {
   "cell_type": "code",
   "execution_count": 2,
   "id": "c9f15cb8-f8d8-4a11-8c77-3b0be3149c8d",
   "metadata": {},
   "outputs": [],
   "source": [
    "def vector_vector_multiplication(u,v):\n",
    "    assert u.shape[0] == v.shape[0]\n",
    "\n",
    "    n = u.shape[0]\n",
    "\n",
    "    result = 0.0\n",
    "\n",
    "    for i in range(n):\n",
    "        result = result + u[i] * v[i]\n",
    "\n",
    "    return result"
   ]
  },
  {
   "cell_type": "code",
   "execution_count": 5,
   "id": "669b0460-7b4c-4050-96e7-314008fb134f",
   "metadata": {},
   "outputs": [
    {
     "data": {
      "text/plain": [
       "array([5, 1, 2, 1])"
      ]
     },
     "execution_count": 5,
     "metadata": {},
     "output_type": "execute_result"
    }
   ],
   "source": [
    "np.random.seed(10)\n",
    "u = np.random.randint(1,10,4)\n",
    "u"
   ]
  },
  {
   "cell_type": "code",
   "execution_count": 6,
   "id": "501b6e41-6c13-4f7f-aae8-ca34ebe246d7",
   "metadata": {},
   "outputs": [
    {
     "data": {
      "text/plain": [
       "array([1, 2, 8, 2])"
      ]
     },
     "execution_count": 6,
     "metadata": {},
     "output_type": "execute_result"
    }
   ],
   "source": [
    "np.random.seed(11)\n",
    "v = np.random.randint(1,10,4)\n",
    "v"
   ]
  },
  {
   "cell_type": "code",
   "execution_count": 7,
   "id": "82c5878e-10ad-4bab-ac6f-ec53ad60c42c",
   "metadata": {},
   "outputs": [
    {
     "data": {
      "text/plain": [
       "np.float64(25.0)"
      ]
     },
     "execution_count": 7,
     "metadata": {},
     "output_type": "execute_result"
    }
   ],
   "source": [
    "vector_vector_multiplication(u,v)"
   ]
  },
  {
   "cell_type": "markdown",
   "id": "cd8c78cd-4248-4193-b7b7-983bd299b9f0",
   "metadata": {},
   "source": [
    "### Matrix-vector multiplication"
   ]
  },
  {
   "cell_type": "code",
   "execution_count": 9,
   "id": "d01d6e0a-b805-475e-a3e0-20d45f225ac5",
   "metadata": {},
   "outputs": [],
   "source": [
    "def matrix_vector_multiplication(U,v):\n",
    "    assert U.shape[1] == v.shape[0]\n",
    "\n",
    "    n = U.shape[0]\n",
    "\n",
    "    result = np.zeros(n)\n",
    "\n",
    "    for i in range(n):\n",
    "        result[i] = vector_vector_multiplication(U[i], v)\n",
    "\n",
    "    return result"
   ]
  },
  {
   "cell_type": "code",
   "execution_count": 14,
   "id": "54df34cc-b782-47b1-a169-69c506993bf4",
   "metadata": {},
   "outputs": [],
   "source": [
    "U = np.array([[1,2,3,1],\n",
    "              [4,5,6,3],\n",
    "              [7,8,9,5]])"
   ]
  },
  {
   "cell_type": "code",
   "execution_count": 15,
   "id": "a4361749-03ec-4812-9be3-2e32b9f04bb3",
   "metadata": {},
   "outputs": [
    {
     "data": {
      "text/plain": [
       "array([ 31.,  68., 105.])"
      ]
     },
     "execution_count": 15,
     "metadata": {},
     "output_type": "execute_result"
    }
   ],
   "source": [
    "matrix_vector_multiplication(U, v)"
   ]
  },
  {
   "cell_type": "code",
   "execution_count": 20,
   "id": "89e70679-5218-46b1-af57-03cd5f9c8ed9",
   "metadata": {},
   "outputs": [
    {
     "data": {
      "text/plain": [
       "array([ 31,  68, 105])"
      ]
     },
     "execution_count": 20,
     "metadata": {},
     "output_type": "execute_result"
    }
   ],
   "source": [
    "U.dot(v)"
   ]
  },
  {
   "cell_type": "markdown",
   "id": "1e04fa6d-ea41-4757-8414-34eb1571013b",
   "metadata": {},
   "source": [
    "### Matrix-matrix multiplication"
   ]
  },
  {
   "cell_type": "code",
   "execution_count": 16,
   "id": "e2356ec8-6c10-49b0-99b6-b28ee96fb10b",
   "metadata": {},
   "outputs": [],
   "source": [
    "def matrix_matrix_multiplication(U,V):\n",
    "    assert U.shape[1] == V.shape[0]\n",
    "\n",
    "    num_rows = U.shape[0]\n",
    "    num_cols = V.shape[1]\n",
    "\n",
    "    result = np.zeros((num_rows, num_cols))\n",
    "\n",
    "    for i in range(num_cols):\n",
    "        vi = V[:, i]\n",
    "        Uvi = matrix_vector_multiplication(U, vi)\n",
    "        result[:, i] = Uvi\n",
    "\n",
    "    return result"
   ]
  },
  {
   "cell_type": "code",
   "execution_count": 17,
   "id": "06078d00-a4b7-447a-b667-91bf08c51c2c",
   "metadata": {},
   "outputs": [],
   "source": [
    "V = np.array([[1,3,2],\n",
    "              [2,4,5],\n",
    "              [4,5,6],\n",
    "              [6,7,4]])"
   ]
  },
  {
   "cell_type": "code",
   "execution_count": 18,
   "id": "49cdb0eb-30ea-4c17-b84e-828751e56dfb",
   "metadata": {},
   "outputs": [
    {
     "data": {
      "text/plain": [
       "array([[ 23.,  33.,  34.],\n",
       "       [ 56.,  83.,  81.],\n",
       "       [ 89., 133., 128.]])"
      ]
     },
     "execution_count": 18,
     "metadata": {},
     "output_type": "execute_result"
    }
   ],
   "source": [
    "matrix_matrix_multiplication(U,V)"
   ]
  },
  {
   "cell_type": "code",
   "execution_count": 19,
   "id": "4bdcc297-ef3d-43a6-aa09-b5c83393f689",
   "metadata": {},
   "outputs": [
    {
     "data": {
      "text/plain": [
       "array([[ 23,  33,  34],\n",
       "       [ 56,  83,  81],\n",
       "       [ 89, 133, 128]])"
      ]
     },
     "execution_count": 19,
     "metadata": {},
     "output_type": "execute_result"
    }
   ],
   "source": [
    "U.dot(V)"
   ]
  },
  {
   "cell_type": "markdown",
   "id": "22c58036-626e-4248-83be-efe5bd35a7ca",
   "metadata": {},
   "source": [
    "### Identity matrix"
   ]
  },
  {
   "cell_type": "code",
   "execution_count": 22,
   "id": "18b85853-2ccb-4269-91ce-9b0ef7801c43",
   "metadata": {},
   "outputs": [],
   "source": [
    "I = np.eye(4)"
   ]
  },
  {
   "cell_type": "code",
   "execution_count": 23,
   "id": "cabdcb08-17a9-40b5-890d-8ca6483cb66a",
   "metadata": {},
   "outputs": [
    {
     "data": {
      "text/plain": [
       "array([[1., 2., 3., 1.],\n",
       "       [4., 5., 6., 3.],\n",
       "       [7., 8., 9., 5.]])"
      ]
     },
     "execution_count": 23,
     "metadata": {},
     "output_type": "execute_result"
    }
   ],
   "source": [
    "U.dot(I)"
   ]
  },
  {
   "cell_type": "markdown",
   "id": "89494e5f-c6cd-47b8-b89b-fa7bc7bb1369",
   "metadata": {},
   "source": [
    "### Inverse\n",
    "Only square matrixes can be inversed"
   ]
  },
  {
   "cell_type": "code",
   "execution_count": 24,
   "id": "7ce25179-f124-4f38-84e2-5bbf0cbd2d3b",
   "metadata": {},
   "outputs": [],
   "source": [
    "Vs = V[[0,1,2]]"
   ]
  },
  {
   "cell_type": "code",
   "execution_count": 25,
   "id": "951c9991-6f73-4356-8b57-e132e5b8b776",
   "metadata": {},
   "outputs": [
    {
     "data": {
      "text/plain": [
       "array([[1, 3, 2],\n",
       "       [2, 4, 5],\n",
       "       [4, 5, 6]])"
      ]
     },
     "execution_count": 25,
     "metadata": {},
     "output_type": "execute_result"
    }
   ],
   "source": [
    "Vs"
   ]
  },
  {
   "cell_type": "code",
   "execution_count": 27,
   "id": "694706db-e4cc-4f29-a4d5-cb7e9d52486e",
   "metadata": {},
   "outputs": [
    {
     "data": {
      "text/plain": [
       "array([[-0.09090909, -0.72727273,  0.63636364],\n",
       "       [ 0.72727273, -0.18181818, -0.09090909],\n",
       "       [-0.54545455,  0.63636364, -0.18181818]])"
      ]
     },
     "execution_count": 27,
     "metadata": {},
     "output_type": "execute_result"
    }
   ],
   "source": [
    "Vs_inv = np.linalg.inv(Vs)\n",
    "Vs_inv"
   ]
  },
  {
   "cell_type": "code",
   "execution_count": 28,
   "id": "50d94219-0280-4763-a8f8-1ad7c083bdf0",
   "metadata": {},
   "outputs": [
    {
     "data": {
      "text/plain": [
       "array([[1.00000000e+00, 1.11022302e-16, 2.22044605e-16],\n",
       "       [0.00000000e+00, 1.00000000e+00, 5.55111512e-17],\n",
       "       [1.11022302e-16, 3.33066907e-16, 1.00000000e+00]])"
      ]
     },
     "execution_count": 28,
     "metadata": {},
     "output_type": "execute_result"
    }
   ],
   "source": [
    "Vs_inv.dot(Vs)"
   ]
  },
  {
   "cell_type": "code",
   "execution_count": null,
   "id": "2370a699-7fad-4e7c-9cd0-183f4554384b",
   "metadata": {},
   "outputs": [],
   "source": []
  }
 ],
 "metadata": {
  "kernelspec": {
   "display_name": "Python 3 (ipykernel)",
   "language": "python",
   "name": "python3"
  },
  "language_info": {
   "codemirror_mode": {
    "name": "ipython",
    "version": 3
   },
   "file_extension": ".py",
   "mimetype": "text/x-python",
   "name": "python",
   "nbconvert_exporter": "python",
   "pygments_lexer": "ipython3",
   "version": "3.12.1"
  }
 },
 "nbformat": 4,
 "nbformat_minor": 5
}
