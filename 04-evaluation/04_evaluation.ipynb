{
 "cells": [
  {
   "cell_type": "markdown",
   "id": "47f567d8-e547-4fae-aabd-b84598f00ad1",
   "metadata": {},
   "source": [
    "## 4. Evaluation Metrics for Classification"
   ]
  },
  {
   "cell_type": "markdown",
   "id": "2027e32c-9974-4ae8-b5ae-0b70d43020e1",
   "metadata": {},
   "source": [
    "In the Classification modeule #3 session trained a model for predicting churn. How do we know if it's good?"
   ]
  },
  {
   "cell_type": "markdown",
   "id": "abdc333b-761e-47c7-954d-475ba3605192",
   "metadata": {},
   "source": [
    "### 4.1 Evaluation metrics: session overview\n",
    "- Dataset: https://www.kaggle.com/blastchar/telco-customer-churn\n",
    "- https://raw.githubusercontent.com/alexeygrigorev/mlbookcamp-code/master/chapter-03-churn-prediction/WA_Fn-UseC_-Telco-Customer-Churn.csv\n",
    "\n",
    "Metric - function that compares the predictions with the actual values and outputs a single number that tells how good the predictions are"
   ]
  },
  {
   "cell_type": "code",
   "execution_count": 98,
   "id": "e5ef2ea5-ef82-40de-b78a-975ed30bf85b",
   "metadata": {},
   "outputs": [],
   "source": [
    "import pandas as pd\n",
    "import numpy as np\n",
    "import matplotlib.pyplot as plt"
   ]
  },
  {
   "cell_type": "code",
   "execution_count": 99,
   "id": "f00b5081-9ff1-49fd-a1db-bcb92d6d95f4",
   "metadata": {},
   "outputs": [],
   "source": [
    "from sklearn.model_selection import train_test_split\n",
    "from sklearn.feature_extraction import DictVectorizer\n",
    "from sklearn.linear_model import LogisticRegression"
   ]
  },
  {
   "cell_type": "markdown",
   "id": "c9595008-af67-4752-ac68-84e0d7db654d",
   "metadata": {},
   "source": [
    "data = 'https://raw.githubusercontent.com/alexeygrigorev/mlbookcamp-code/refs/heads/master/chapter-03-churn-prediction/WA_Fn-UseC_-Telco-Customer-Churn.csv'"
   ]
  },
  {
   "cell_type": "markdown",
   "id": "0c540836-af38-4b68-ac0c-d632e9377389",
   "metadata": {},
   "source": [
    "!wget $data -O customer_churn_data.csv"
   ]
  },
  {
   "cell_type": "code",
   "execution_count": 100,
   "id": "ee04f92d-3f22-4fe2-ac1f-384e14d17c0e",
   "metadata": {},
   "outputs": [],
   "source": [
    "df = pd.read_csv('customer_churn_data.csv')\n",
    "\n",
    "df.columns = df.columns.str.lower().str.replace(' ', '_')\n",
    "\n",
    "categorical_columns = list(df.dtypes[df.dtypes == 'object'].index)\n",
    "\n",
    "for c in categorical_columns:\n",
    "    df[c] = df[c].str.lower().str.replace(' ', '_')\n",
    "\n",
    "df.totalcharges = pd.to_numeric(df.totalcharges, errors='coerce')\n",
    "df.totalcharges = df.totalcharges.fillna(0)\n",
    "\n",
    "df.churn = (df.churn == 'yes').astype(int)"
   ]
  },
  {
   "cell_type": "code",
   "execution_count": 101,
   "id": "d5f9cd25-2f2a-47a5-8595-545b6c60e62b",
   "metadata": {},
   "outputs": [],
   "source": [
    "df_full_train, df_test = train_test_split(df, test_size=0.2, random_state=1)\n",
    "df_train, df_val = train_test_split(df_full_train, test_size=0.25, random_state=1)\n",
    "\n",
    "df_train = df_train.reset_index(drop=True)\n",
    "df_val = df_val.reset_index(drop=True)\n",
    "df_test = df_test.reset_index(drop=True)\n",
    "\n",
    "y_train = df_train.churn.values\n",
    "y_val = df_val.churn.values\n",
    "y_test = df_test.churn.values\n",
    "\n",
    "del df_train['churn']\n",
    "del df_val['churn']\n",
    "del df_test['churn']"
   ]
  },
  {
   "cell_type": "code",
   "execution_count": 102,
   "id": "c041f4a9-3f82-4838-8c8a-d422957083bd",
   "metadata": {},
   "outputs": [],
   "source": [
    "numerical = ['tenure', 'monthlycharges', 'totalcharges']\n",
    "\n",
    "categorical = [\n",
    "    'gender',\n",
    "    'seniorcitizen',\n",
    "    'partner',\n",
    "    'dependents',\n",
    "    'phoneservice',\n",
    "    'multiplelines',\n",
    "    'internetservice',\n",
    "    'onlinesecurity',\n",
    "    'onlinebackup',\n",
    "    'deviceprotection',\n",
    "    'techsupport',\n",
    "    'streamingtv',\n",
    "    'streamingmovies',\n",
    "    'contract',\n",
    "    'paperlessbilling',\n",
    "    'paymentmethod',\n",
    "]"
   ]
  },
  {
   "cell_type": "code",
   "execution_count": 103,
   "id": "c1833ed7-8f67-4e9d-8b28-3c6d60a7b55e",
   "metadata": {},
   "outputs": [
    {
     "name": "stderr",
     "output_type": "stream",
     "text": [
      "/home/codespace/.local/lib/python3.12/site-packages/sklearn/linear_model/_logistic.py:470: ConvergenceWarning: lbfgs failed to converge after 100 iteration(s) (status=1):\n",
      "STOP: TOTAL NO. OF ITERATIONS REACHED LIMIT\n",
      "\n",
      "Increase the number of iterations to improve the convergence (max_iter=100).\n",
      "You might also want to scale the data as shown in:\n",
      "    https://scikit-learn.org/stable/modules/preprocessing.html\n",
      "Please also refer to the documentation for alternative solver options:\n",
      "    https://scikit-learn.org/stable/modules/linear_model.html#logistic-regression\n",
      "  n_iter_i = _check_optimize_result(\n"
     ]
    },
    {
     "data": {
      "text/html": [
       "<style>#sk-container-id-2 {\n",
       "  /* Definition of color scheme common for light and dark mode */\n",
       "  --sklearn-color-text: #000;\n",
       "  --sklearn-color-text-muted: #666;\n",
       "  --sklearn-color-line: gray;\n",
       "  /* Definition of color scheme for unfitted estimators */\n",
       "  --sklearn-color-unfitted-level-0: #fff5e6;\n",
       "  --sklearn-color-unfitted-level-1: #f6e4d2;\n",
       "  --sklearn-color-unfitted-level-2: #ffe0b3;\n",
       "  --sklearn-color-unfitted-level-3: chocolate;\n",
       "  /* Definition of color scheme for fitted estimators */\n",
       "  --sklearn-color-fitted-level-0: #f0f8ff;\n",
       "  --sklearn-color-fitted-level-1: #d4ebff;\n",
       "  --sklearn-color-fitted-level-2: #b3dbfd;\n",
       "  --sklearn-color-fitted-level-3: cornflowerblue;\n",
       "\n",
       "  /* Specific color for light theme */\n",
       "  --sklearn-color-text-on-default-background: var(--sg-text-color, var(--theme-code-foreground, var(--jp-content-font-color1, black)));\n",
       "  --sklearn-color-background: var(--sg-background-color, var(--theme-background, var(--jp-layout-color0, white)));\n",
       "  --sklearn-color-border-box: var(--sg-text-color, var(--theme-code-foreground, var(--jp-content-font-color1, black)));\n",
       "  --sklearn-color-icon: #696969;\n",
       "\n",
       "  @media (prefers-color-scheme: dark) {\n",
       "    /* Redefinition of color scheme for dark theme */\n",
       "    --sklearn-color-text-on-default-background: var(--sg-text-color, var(--theme-code-foreground, var(--jp-content-font-color1, white)));\n",
       "    --sklearn-color-background: var(--sg-background-color, var(--theme-background, var(--jp-layout-color0, #111)));\n",
       "    --sklearn-color-border-box: var(--sg-text-color, var(--theme-code-foreground, var(--jp-content-font-color1, white)));\n",
       "    --sklearn-color-icon: #878787;\n",
       "  }\n",
       "}\n",
       "\n",
       "#sk-container-id-2 {\n",
       "  color: var(--sklearn-color-text);\n",
       "}\n",
       "\n",
       "#sk-container-id-2 pre {\n",
       "  padding: 0;\n",
       "}\n",
       "\n",
       "#sk-container-id-2 input.sk-hidden--visually {\n",
       "  border: 0;\n",
       "  clip: rect(1px 1px 1px 1px);\n",
       "  clip: rect(1px, 1px, 1px, 1px);\n",
       "  height: 1px;\n",
       "  margin: -1px;\n",
       "  overflow: hidden;\n",
       "  padding: 0;\n",
       "  position: absolute;\n",
       "  width: 1px;\n",
       "}\n",
       "\n",
       "#sk-container-id-2 div.sk-dashed-wrapped {\n",
       "  border: 1px dashed var(--sklearn-color-line);\n",
       "  margin: 0 0.4em 0.5em 0.4em;\n",
       "  box-sizing: border-box;\n",
       "  padding-bottom: 0.4em;\n",
       "  background-color: var(--sklearn-color-background);\n",
       "}\n",
       "\n",
       "#sk-container-id-2 div.sk-container {\n",
       "  /* jupyter's `normalize.less` sets `[hidden] { display: none; }`\n",
       "     but bootstrap.min.css set `[hidden] { display: none !important; }`\n",
       "     so we also need the `!important` here to be able to override the\n",
       "     default hidden behavior on the sphinx rendered scikit-learn.org.\n",
       "     See: https://github.com/scikit-learn/scikit-learn/issues/21755 */\n",
       "  display: inline-block !important;\n",
       "  position: relative;\n",
       "}\n",
       "\n",
       "#sk-container-id-2 div.sk-text-repr-fallback {\n",
       "  display: none;\n",
       "}\n",
       "\n",
       "div.sk-parallel-item,\n",
       "div.sk-serial,\n",
       "div.sk-item {\n",
       "  /* draw centered vertical line to link estimators */\n",
       "  background-image: linear-gradient(var(--sklearn-color-text-on-default-background), var(--sklearn-color-text-on-default-background));\n",
       "  background-size: 2px 100%;\n",
       "  background-repeat: no-repeat;\n",
       "  background-position: center center;\n",
       "}\n",
       "\n",
       "/* Parallel-specific style estimator block */\n",
       "\n",
       "#sk-container-id-2 div.sk-parallel-item::after {\n",
       "  content: \"\";\n",
       "  width: 100%;\n",
       "  border-bottom: 2px solid var(--sklearn-color-text-on-default-background);\n",
       "  flex-grow: 1;\n",
       "}\n",
       "\n",
       "#sk-container-id-2 div.sk-parallel {\n",
       "  display: flex;\n",
       "  align-items: stretch;\n",
       "  justify-content: center;\n",
       "  background-color: var(--sklearn-color-background);\n",
       "  position: relative;\n",
       "}\n",
       "\n",
       "#sk-container-id-2 div.sk-parallel-item {\n",
       "  display: flex;\n",
       "  flex-direction: column;\n",
       "}\n",
       "\n",
       "#sk-container-id-2 div.sk-parallel-item:first-child::after {\n",
       "  align-self: flex-end;\n",
       "  width: 50%;\n",
       "}\n",
       "\n",
       "#sk-container-id-2 div.sk-parallel-item:last-child::after {\n",
       "  align-self: flex-start;\n",
       "  width: 50%;\n",
       "}\n",
       "\n",
       "#sk-container-id-2 div.sk-parallel-item:only-child::after {\n",
       "  width: 0;\n",
       "}\n",
       "\n",
       "/* Serial-specific style estimator block */\n",
       "\n",
       "#sk-container-id-2 div.sk-serial {\n",
       "  display: flex;\n",
       "  flex-direction: column;\n",
       "  align-items: center;\n",
       "  background-color: var(--sklearn-color-background);\n",
       "  padding-right: 1em;\n",
       "  padding-left: 1em;\n",
       "}\n",
       "\n",
       "\n",
       "/* Toggleable style: style used for estimator/Pipeline/ColumnTransformer box that is\n",
       "clickable and can be expanded/collapsed.\n",
       "- Pipeline and ColumnTransformer use this feature and define the default style\n",
       "- Estimators will overwrite some part of the style using the `sk-estimator` class\n",
       "*/\n",
       "\n",
       "/* Pipeline and ColumnTransformer style (default) */\n",
       "\n",
       "#sk-container-id-2 div.sk-toggleable {\n",
       "  /* Default theme specific background. It is overwritten whether we have a\n",
       "  specific estimator or a Pipeline/ColumnTransformer */\n",
       "  background-color: var(--sklearn-color-background);\n",
       "}\n",
       "\n",
       "/* Toggleable label */\n",
       "#sk-container-id-2 label.sk-toggleable__label {\n",
       "  cursor: pointer;\n",
       "  display: flex;\n",
       "  width: 100%;\n",
       "  margin-bottom: 0;\n",
       "  padding: 0.5em;\n",
       "  box-sizing: border-box;\n",
       "  text-align: center;\n",
       "  align-items: start;\n",
       "  justify-content: space-between;\n",
       "  gap: 0.5em;\n",
       "}\n",
       "\n",
       "#sk-container-id-2 label.sk-toggleable__label .caption {\n",
       "  font-size: 0.6rem;\n",
       "  font-weight: lighter;\n",
       "  color: var(--sklearn-color-text-muted);\n",
       "}\n",
       "\n",
       "#sk-container-id-2 label.sk-toggleable__label-arrow:before {\n",
       "  /* Arrow on the left of the label */\n",
       "  content: \"▸\";\n",
       "  float: left;\n",
       "  margin-right: 0.25em;\n",
       "  color: var(--sklearn-color-icon);\n",
       "}\n",
       "\n",
       "#sk-container-id-2 label.sk-toggleable__label-arrow:hover:before {\n",
       "  color: var(--sklearn-color-text);\n",
       "}\n",
       "\n",
       "/* Toggleable content - dropdown */\n",
       "\n",
       "#sk-container-id-2 div.sk-toggleable__content {\n",
       "  display: none;\n",
       "  text-align: left;\n",
       "  /* unfitted */\n",
       "  background-color: var(--sklearn-color-unfitted-level-0);\n",
       "}\n",
       "\n",
       "#sk-container-id-2 div.sk-toggleable__content.fitted {\n",
       "  /* fitted */\n",
       "  background-color: var(--sklearn-color-fitted-level-0);\n",
       "}\n",
       "\n",
       "#sk-container-id-2 div.sk-toggleable__content pre {\n",
       "  margin: 0.2em;\n",
       "  border-radius: 0.25em;\n",
       "  color: var(--sklearn-color-text);\n",
       "  /* unfitted */\n",
       "  background-color: var(--sklearn-color-unfitted-level-0);\n",
       "}\n",
       "\n",
       "#sk-container-id-2 div.sk-toggleable__content.fitted pre {\n",
       "  /* unfitted */\n",
       "  background-color: var(--sklearn-color-fitted-level-0);\n",
       "}\n",
       "\n",
       "#sk-container-id-2 input.sk-toggleable__control:checked~div.sk-toggleable__content {\n",
       "  /* Expand drop-down */\n",
       "  display: block;\n",
       "  width: 100%;\n",
       "  overflow: visible;\n",
       "}\n",
       "\n",
       "#sk-container-id-2 input.sk-toggleable__control:checked~label.sk-toggleable__label-arrow:before {\n",
       "  content: \"▾\";\n",
       "}\n",
       "\n",
       "/* Pipeline/ColumnTransformer-specific style */\n",
       "\n",
       "#sk-container-id-2 div.sk-label input.sk-toggleable__control:checked~label.sk-toggleable__label {\n",
       "  color: var(--sklearn-color-text);\n",
       "  background-color: var(--sklearn-color-unfitted-level-2);\n",
       "}\n",
       "\n",
       "#sk-container-id-2 div.sk-label.fitted input.sk-toggleable__control:checked~label.sk-toggleable__label {\n",
       "  background-color: var(--sklearn-color-fitted-level-2);\n",
       "}\n",
       "\n",
       "/* Estimator-specific style */\n",
       "\n",
       "/* Colorize estimator box */\n",
       "#sk-container-id-2 div.sk-estimator input.sk-toggleable__control:checked~label.sk-toggleable__label {\n",
       "  /* unfitted */\n",
       "  background-color: var(--sklearn-color-unfitted-level-2);\n",
       "}\n",
       "\n",
       "#sk-container-id-2 div.sk-estimator.fitted input.sk-toggleable__control:checked~label.sk-toggleable__label {\n",
       "  /* fitted */\n",
       "  background-color: var(--sklearn-color-fitted-level-2);\n",
       "}\n",
       "\n",
       "#sk-container-id-2 div.sk-label label.sk-toggleable__label,\n",
       "#sk-container-id-2 div.sk-label label {\n",
       "  /* The background is the default theme color */\n",
       "  color: var(--sklearn-color-text-on-default-background);\n",
       "}\n",
       "\n",
       "/* On hover, darken the color of the background */\n",
       "#sk-container-id-2 div.sk-label:hover label.sk-toggleable__label {\n",
       "  color: var(--sklearn-color-text);\n",
       "  background-color: var(--sklearn-color-unfitted-level-2);\n",
       "}\n",
       "\n",
       "/* Label box, darken color on hover, fitted */\n",
       "#sk-container-id-2 div.sk-label.fitted:hover label.sk-toggleable__label.fitted {\n",
       "  color: var(--sklearn-color-text);\n",
       "  background-color: var(--sklearn-color-fitted-level-2);\n",
       "}\n",
       "\n",
       "/* Estimator label */\n",
       "\n",
       "#sk-container-id-2 div.sk-label label {\n",
       "  font-family: monospace;\n",
       "  font-weight: bold;\n",
       "  display: inline-block;\n",
       "  line-height: 1.2em;\n",
       "}\n",
       "\n",
       "#sk-container-id-2 div.sk-label-container {\n",
       "  text-align: center;\n",
       "}\n",
       "\n",
       "/* Estimator-specific */\n",
       "#sk-container-id-2 div.sk-estimator {\n",
       "  font-family: monospace;\n",
       "  border: 1px dotted var(--sklearn-color-border-box);\n",
       "  border-radius: 0.25em;\n",
       "  box-sizing: border-box;\n",
       "  margin-bottom: 0.5em;\n",
       "  /* unfitted */\n",
       "  background-color: var(--sklearn-color-unfitted-level-0);\n",
       "}\n",
       "\n",
       "#sk-container-id-2 div.sk-estimator.fitted {\n",
       "  /* fitted */\n",
       "  background-color: var(--sklearn-color-fitted-level-0);\n",
       "}\n",
       "\n",
       "/* on hover */\n",
       "#sk-container-id-2 div.sk-estimator:hover {\n",
       "  /* unfitted */\n",
       "  background-color: var(--sklearn-color-unfitted-level-2);\n",
       "}\n",
       "\n",
       "#sk-container-id-2 div.sk-estimator.fitted:hover {\n",
       "  /* fitted */\n",
       "  background-color: var(--sklearn-color-fitted-level-2);\n",
       "}\n",
       "\n",
       "/* Specification for estimator info (e.g. \"i\" and \"?\") */\n",
       "\n",
       "/* Common style for \"i\" and \"?\" */\n",
       "\n",
       ".sk-estimator-doc-link,\n",
       "a:link.sk-estimator-doc-link,\n",
       "a:visited.sk-estimator-doc-link {\n",
       "  float: right;\n",
       "  font-size: smaller;\n",
       "  line-height: 1em;\n",
       "  font-family: monospace;\n",
       "  background-color: var(--sklearn-color-background);\n",
       "  border-radius: 1em;\n",
       "  height: 1em;\n",
       "  width: 1em;\n",
       "  text-decoration: none !important;\n",
       "  margin-left: 0.5em;\n",
       "  text-align: center;\n",
       "  /* unfitted */\n",
       "  border: var(--sklearn-color-unfitted-level-1) 1pt solid;\n",
       "  color: var(--sklearn-color-unfitted-level-1);\n",
       "}\n",
       "\n",
       ".sk-estimator-doc-link.fitted,\n",
       "a:link.sk-estimator-doc-link.fitted,\n",
       "a:visited.sk-estimator-doc-link.fitted {\n",
       "  /* fitted */\n",
       "  border: var(--sklearn-color-fitted-level-1) 1pt solid;\n",
       "  color: var(--sklearn-color-fitted-level-1);\n",
       "}\n",
       "\n",
       "/* On hover */\n",
       "div.sk-estimator:hover .sk-estimator-doc-link:hover,\n",
       ".sk-estimator-doc-link:hover,\n",
       "div.sk-label-container:hover .sk-estimator-doc-link:hover,\n",
       ".sk-estimator-doc-link:hover {\n",
       "  /* unfitted */\n",
       "  background-color: var(--sklearn-color-unfitted-level-3);\n",
       "  color: var(--sklearn-color-background);\n",
       "  text-decoration: none;\n",
       "}\n",
       "\n",
       "div.sk-estimator.fitted:hover .sk-estimator-doc-link.fitted:hover,\n",
       ".sk-estimator-doc-link.fitted:hover,\n",
       "div.sk-label-container:hover .sk-estimator-doc-link.fitted:hover,\n",
       ".sk-estimator-doc-link.fitted:hover {\n",
       "  /* fitted */\n",
       "  background-color: var(--sklearn-color-fitted-level-3);\n",
       "  color: var(--sklearn-color-background);\n",
       "  text-decoration: none;\n",
       "}\n",
       "\n",
       "/* Span, style for the box shown on hovering the info icon */\n",
       ".sk-estimator-doc-link span {\n",
       "  display: none;\n",
       "  z-index: 9999;\n",
       "  position: relative;\n",
       "  font-weight: normal;\n",
       "  right: .2ex;\n",
       "  padding: .5ex;\n",
       "  margin: .5ex;\n",
       "  width: min-content;\n",
       "  min-width: 20ex;\n",
       "  max-width: 50ex;\n",
       "  color: var(--sklearn-color-text);\n",
       "  box-shadow: 2pt 2pt 4pt #999;\n",
       "  /* unfitted */\n",
       "  background: var(--sklearn-color-unfitted-level-0);\n",
       "  border: .5pt solid var(--sklearn-color-unfitted-level-3);\n",
       "}\n",
       "\n",
       ".sk-estimator-doc-link.fitted span {\n",
       "  /* fitted */\n",
       "  background: var(--sklearn-color-fitted-level-0);\n",
       "  border: var(--sklearn-color-fitted-level-3);\n",
       "}\n",
       "\n",
       ".sk-estimator-doc-link:hover span {\n",
       "  display: block;\n",
       "}\n",
       "\n",
       "/* \"?\"-specific style due to the `<a>` HTML tag */\n",
       "\n",
       "#sk-container-id-2 a.estimator_doc_link {\n",
       "  float: right;\n",
       "  font-size: 1rem;\n",
       "  line-height: 1em;\n",
       "  font-family: monospace;\n",
       "  background-color: var(--sklearn-color-background);\n",
       "  border-radius: 1rem;\n",
       "  height: 1rem;\n",
       "  width: 1rem;\n",
       "  text-decoration: none;\n",
       "  /* unfitted */\n",
       "  color: var(--sklearn-color-unfitted-level-1);\n",
       "  border: var(--sklearn-color-unfitted-level-1) 1pt solid;\n",
       "}\n",
       "\n",
       "#sk-container-id-2 a.estimator_doc_link.fitted {\n",
       "  /* fitted */\n",
       "  border: var(--sklearn-color-fitted-level-1) 1pt solid;\n",
       "  color: var(--sklearn-color-fitted-level-1);\n",
       "}\n",
       "\n",
       "/* On hover */\n",
       "#sk-container-id-2 a.estimator_doc_link:hover {\n",
       "  /* unfitted */\n",
       "  background-color: var(--sklearn-color-unfitted-level-3);\n",
       "  color: var(--sklearn-color-background);\n",
       "  text-decoration: none;\n",
       "}\n",
       "\n",
       "#sk-container-id-2 a.estimator_doc_link.fitted:hover {\n",
       "  /* fitted */\n",
       "  background-color: var(--sklearn-color-fitted-level-3);\n",
       "}\n",
       "\n",
       ".estimator-table summary {\n",
       "    padding: .5rem;\n",
       "    font-family: monospace;\n",
       "    cursor: pointer;\n",
       "}\n",
       "\n",
       ".estimator-table details[open] {\n",
       "    padding-left: 0.1rem;\n",
       "    padding-right: 0.1rem;\n",
       "    padding-bottom: 0.3rem;\n",
       "}\n",
       "\n",
       ".estimator-table .parameters-table {\n",
       "    margin-left: auto !important;\n",
       "    margin-right: auto !important;\n",
       "}\n",
       "\n",
       ".estimator-table .parameters-table tr:nth-child(odd) {\n",
       "    background-color: #fff;\n",
       "}\n",
       "\n",
       ".estimator-table .parameters-table tr:nth-child(even) {\n",
       "    background-color: #f6f6f6;\n",
       "}\n",
       "\n",
       ".estimator-table .parameters-table tr:hover {\n",
       "    background-color: #e0e0e0;\n",
       "}\n",
       "\n",
       ".estimator-table table td {\n",
       "    border: 1px solid rgba(106, 105, 104, 0.232);\n",
       "}\n",
       "\n",
       ".user-set td {\n",
       "    color:rgb(255, 94, 0);\n",
       "    text-align: left;\n",
       "}\n",
       "\n",
       ".user-set td.value pre {\n",
       "    color:rgb(255, 94, 0) !important;\n",
       "    background-color: transparent !important;\n",
       "}\n",
       "\n",
       ".default td {\n",
       "    color: black;\n",
       "    text-align: left;\n",
       "}\n",
       "\n",
       ".user-set td i,\n",
       ".default td i {\n",
       "    color: black;\n",
       "}\n",
       "\n",
       ".copy-paste-icon {\n",
       "    background-image: url(data:image/svg+xml;base64,PHN2ZyB4bWxucz0iaHR0cDovL3d3dy53My5vcmcvMjAwMC9zdmciIHZpZXdCb3g9IjAgMCA0NDggNTEyIj48IS0tIUZvbnQgQXdlc29tZSBGcmVlIDYuNy4yIGJ5IEBmb250YXdlc29tZSAtIGh0dHBzOi8vZm9udGF3ZXNvbWUuY29tIExpY2Vuc2UgLSBodHRwczovL2ZvbnRhd2Vzb21lLmNvbS9saWNlbnNlL2ZyZWUgQ29weXJpZ2h0IDIwMjUgRm9udGljb25zLCBJbmMuLS0+PHBhdGggZD0iTTIwOCAwTDMzMi4xIDBjMTIuNyAwIDI0LjkgNS4xIDMzLjkgMTQuMWw2Ny45IDY3LjljOSA5IDE0LjEgMjEuMiAxNC4xIDMzLjlMNDQ4IDMzNmMwIDI2LjUtMjEuNSA0OC00OCA0OGwtMTkyIDBjLTI2LjUgMC00OC0yMS41LTQ4LTQ4bDAtMjg4YzAtMjYuNSAyMS41LTQ4IDQ4LTQ4ek00OCAxMjhsODAgMCAwIDY0LTY0IDAgMCAyNTYgMTkyIDAgMC0zMiA2NCAwIDAgNDhjMCAyNi41LTIxLjUgNDgtNDggNDhMNDggNTEyYy0yNi41IDAtNDgtMjEuNS00OC00OEwwIDE3NmMwLTI2LjUgMjEuNS00OCA0OC00OHoiLz48L3N2Zz4=);\n",
       "    background-repeat: no-repeat;\n",
       "    background-size: 14px 14px;\n",
       "    background-position: 0;\n",
       "    display: inline-block;\n",
       "    width: 14px;\n",
       "    height: 14px;\n",
       "    cursor: pointer;\n",
       "}\n",
       "</style><body><div id=\"sk-container-id-2\" class=\"sk-top-container\"><div class=\"sk-text-repr-fallback\"><pre>LogisticRegression()</pre><b>In a Jupyter environment, please rerun this cell to show the HTML representation or trust the notebook. <br />On GitHub, the HTML representation is unable to render, please try loading this page with nbviewer.org.</b></div><div class=\"sk-container\" hidden><div class=\"sk-item\"><div class=\"sk-estimator fitted sk-toggleable\"><input class=\"sk-toggleable__control sk-hidden--visually\" id=\"sk-estimator-id-2\" type=\"checkbox\" checked><label for=\"sk-estimator-id-2\" class=\"sk-toggleable__label fitted sk-toggleable__label-arrow\"><div><div>LogisticRegression</div></div><div><a class=\"sk-estimator-doc-link fitted\" rel=\"noreferrer\" target=\"_blank\" href=\"https://scikit-learn.org/1.7/modules/generated/sklearn.linear_model.LogisticRegression.html\">?<span>Documentation for LogisticRegression</span></a><span class=\"sk-estimator-doc-link fitted\">i<span>Fitted</span></span></div></label><div class=\"sk-toggleable__content fitted\" data-param-prefix=\"\">\n",
       "        <div class=\"estimator-table\">\n",
       "            <details>\n",
       "                <summary>Parameters</summary>\n",
       "                <table class=\"parameters-table\">\n",
       "                  <tbody>\n",
       "                    \n",
       "        <tr class=\"default\">\n",
       "            <td><i class=\"copy-paste-icon\"\n",
       "                 onclick=\"copyToClipboard('penalty',\n",
       "                          this.parentElement.nextElementSibling)\"\n",
       "            ></i></td>\n",
       "            <td class=\"param\">penalty&nbsp;</td>\n",
       "            <td class=\"value\">&#x27;l2&#x27;</td>\n",
       "        </tr>\n",
       "    \n",
       "\n",
       "        <tr class=\"default\">\n",
       "            <td><i class=\"copy-paste-icon\"\n",
       "                 onclick=\"copyToClipboard('dual',\n",
       "                          this.parentElement.nextElementSibling)\"\n",
       "            ></i></td>\n",
       "            <td class=\"param\">dual&nbsp;</td>\n",
       "            <td class=\"value\">False</td>\n",
       "        </tr>\n",
       "    \n",
       "\n",
       "        <tr class=\"default\">\n",
       "            <td><i class=\"copy-paste-icon\"\n",
       "                 onclick=\"copyToClipboard('tol',\n",
       "                          this.parentElement.nextElementSibling)\"\n",
       "            ></i></td>\n",
       "            <td class=\"param\">tol&nbsp;</td>\n",
       "            <td class=\"value\">0.0001</td>\n",
       "        </tr>\n",
       "    \n",
       "\n",
       "        <tr class=\"default\">\n",
       "            <td><i class=\"copy-paste-icon\"\n",
       "                 onclick=\"copyToClipboard('C',\n",
       "                          this.parentElement.nextElementSibling)\"\n",
       "            ></i></td>\n",
       "            <td class=\"param\">C&nbsp;</td>\n",
       "            <td class=\"value\">1.0</td>\n",
       "        </tr>\n",
       "    \n",
       "\n",
       "        <tr class=\"default\">\n",
       "            <td><i class=\"copy-paste-icon\"\n",
       "                 onclick=\"copyToClipboard('fit_intercept',\n",
       "                          this.parentElement.nextElementSibling)\"\n",
       "            ></i></td>\n",
       "            <td class=\"param\">fit_intercept&nbsp;</td>\n",
       "            <td class=\"value\">True</td>\n",
       "        </tr>\n",
       "    \n",
       "\n",
       "        <tr class=\"default\">\n",
       "            <td><i class=\"copy-paste-icon\"\n",
       "                 onclick=\"copyToClipboard('intercept_scaling',\n",
       "                          this.parentElement.nextElementSibling)\"\n",
       "            ></i></td>\n",
       "            <td class=\"param\">intercept_scaling&nbsp;</td>\n",
       "            <td class=\"value\">1</td>\n",
       "        </tr>\n",
       "    \n",
       "\n",
       "        <tr class=\"default\">\n",
       "            <td><i class=\"copy-paste-icon\"\n",
       "                 onclick=\"copyToClipboard('class_weight',\n",
       "                          this.parentElement.nextElementSibling)\"\n",
       "            ></i></td>\n",
       "            <td class=\"param\">class_weight&nbsp;</td>\n",
       "            <td class=\"value\">None</td>\n",
       "        </tr>\n",
       "    \n",
       "\n",
       "        <tr class=\"default\">\n",
       "            <td><i class=\"copy-paste-icon\"\n",
       "                 onclick=\"copyToClipboard('random_state',\n",
       "                          this.parentElement.nextElementSibling)\"\n",
       "            ></i></td>\n",
       "            <td class=\"param\">random_state&nbsp;</td>\n",
       "            <td class=\"value\">None</td>\n",
       "        </tr>\n",
       "    \n",
       "\n",
       "        <tr class=\"default\">\n",
       "            <td><i class=\"copy-paste-icon\"\n",
       "                 onclick=\"copyToClipboard('solver',\n",
       "                          this.parentElement.nextElementSibling)\"\n",
       "            ></i></td>\n",
       "            <td class=\"param\">solver&nbsp;</td>\n",
       "            <td class=\"value\">&#x27;lbfgs&#x27;</td>\n",
       "        </tr>\n",
       "    \n",
       "\n",
       "        <tr class=\"default\">\n",
       "            <td><i class=\"copy-paste-icon\"\n",
       "                 onclick=\"copyToClipboard('max_iter',\n",
       "                          this.parentElement.nextElementSibling)\"\n",
       "            ></i></td>\n",
       "            <td class=\"param\">max_iter&nbsp;</td>\n",
       "            <td class=\"value\">100</td>\n",
       "        </tr>\n",
       "    \n",
       "\n",
       "        <tr class=\"default\">\n",
       "            <td><i class=\"copy-paste-icon\"\n",
       "                 onclick=\"copyToClipboard('multi_class',\n",
       "                          this.parentElement.nextElementSibling)\"\n",
       "            ></i></td>\n",
       "            <td class=\"param\">multi_class&nbsp;</td>\n",
       "            <td class=\"value\">&#x27;deprecated&#x27;</td>\n",
       "        </tr>\n",
       "    \n",
       "\n",
       "        <tr class=\"default\">\n",
       "            <td><i class=\"copy-paste-icon\"\n",
       "                 onclick=\"copyToClipboard('verbose',\n",
       "                          this.parentElement.nextElementSibling)\"\n",
       "            ></i></td>\n",
       "            <td class=\"param\">verbose&nbsp;</td>\n",
       "            <td class=\"value\">0</td>\n",
       "        </tr>\n",
       "    \n",
       "\n",
       "        <tr class=\"default\">\n",
       "            <td><i class=\"copy-paste-icon\"\n",
       "                 onclick=\"copyToClipboard('warm_start',\n",
       "                          this.parentElement.nextElementSibling)\"\n",
       "            ></i></td>\n",
       "            <td class=\"param\">warm_start&nbsp;</td>\n",
       "            <td class=\"value\">False</td>\n",
       "        </tr>\n",
       "    \n",
       "\n",
       "        <tr class=\"default\">\n",
       "            <td><i class=\"copy-paste-icon\"\n",
       "                 onclick=\"copyToClipboard('n_jobs',\n",
       "                          this.parentElement.nextElementSibling)\"\n",
       "            ></i></td>\n",
       "            <td class=\"param\">n_jobs&nbsp;</td>\n",
       "            <td class=\"value\">None</td>\n",
       "        </tr>\n",
       "    \n",
       "\n",
       "        <tr class=\"default\">\n",
       "            <td><i class=\"copy-paste-icon\"\n",
       "                 onclick=\"copyToClipboard('l1_ratio',\n",
       "                          this.parentElement.nextElementSibling)\"\n",
       "            ></i></td>\n",
       "            <td class=\"param\">l1_ratio&nbsp;</td>\n",
       "            <td class=\"value\">None</td>\n",
       "        </tr>\n",
       "    \n",
       "                  </tbody>\n",
       "                </table>\n",
       "            </details>\n",
       "        </div>\n",
       "    </div></div></div></div></div><script>function copyToClipboard(text, element) {\n",
       "    // Get the parameter prefix from the closest toggleable content\n",
       "    const toggleableContent = element.closest('.sk-toggleable__content');\n",
       "    const paramPrefix = toggleableContent ? toggleableContent.dataset.paramPrefix : '';\n",
       "    const fullParamName = paramPrefix ? `${paramPrefix}${text}` : text;\n",
       "\n",
       "    const originalStyle = element.style;\n",
       "    const computedStyle = window.getComputedStyle(element);\n",
       "    const originalWidth = computedStyle.width;\n",
       "    const originalHTML = element.innerHTML.replace('Copied!', '');\n",
       "\n",
       "    navigator.clipboard.writeText(fullParamName)\n",
       "        .then(() => {\n",
       "            element.style.width = originalWidth;\n",
       "            element.style.color = 'green';\n",
       "            element.innerHTML = \"Copied!\";\n",
       "\n",
       "            setTimeout(() => {\n",
       "                element.innerHTML = originalHTML;\n",
       "                element.style = originalStyle;\n",
       "            }, 2000);\n",
       "        })\n",
       "        .catch(err => {\n",
       "            console.error('Failed to copy:', err);\n",
       "            element.style.color = 'red';\n",
       "            element.innerHTML = \"Failed!\";\n",
       "            setTimeout(() => {\n",
       "                element.innerHTML = originalHTML;\n",
       "                element.style = originalStyle;\n",
       "            }, 2000);\n",
       "        });\n",
       "    return false;\n",
       "}\n",
       "\n",
       "document.querySelectorAll('.fa-regular.fa-copy').forEach(function(element) {\n",
       "    const toggleableContent = element.closest('.sk-toggleable__content');\n",
       "    const paramPrefix = toggleableContent ? toggleableContent.dataset.paramPrefix : '';\n",
       "    const paramName = element.parentElement.nextElementSibling.textContent.trim();\n",
       "    const fullParamName = paramPrefix ? `${paramPrefix}${paramName}` : paramName;\n",
       "\n",
       "    element.setAttribute('title', fullParamName);\n",
       "});\n",
       "</script></body>"
      ],
      "text/plain": [
       "LogisticRegression()"
      ]
     },
     "execution_count": 103,
     "metadata": {},
     "output_type": "execute_result"
    }
   ],
   "source": [
    "dv = DictVectorizer(sparse=False)\n",
    "\n",
    "train_dict = df_train[categorical + numerical].to_dict(orient='records')\n",
    "X_train = dv.fit_transform(train_dict)\n",
    "\n",
    "model = LogisticRegression()\n",
    "model.fit(X_train, y_train)"
   ]
  },
  {
   "cell_type": "code",
   "execution_count": 104,
   "id": "e356db04-4926-43b6-83f9-b004c0dd2f64",
   "metadata": {},
   "outputs": [
    {
     "data": {
      "text/plain": [
       "np.float64(0.801277501774308)"
      ]
     },
     "execution_count": 104,
     "metadata": {},
     "output_type": "execute_result"
    }
   ],
   "source": [
    "val_dict = df_val[categorical + numerical].to_dict(orient='records')\n",
    "X_val = dv.transform(val_dict)\n",
    "\n",
    "y_pred = model.predict_proba(X_val)[:, 1]\n",
    "churn_decision = (y_pred >= 0.5)\n",
    "(y_val == churn_decision).mean()"
   ]
  },
  {
   "cell_type": "markdown",
   "id": "f6776e9b-b2fc-4332-96a8-d10f37ec4744",
   "metadata": {},
   "source": [
    "### 4.2 Accuracy and dummy model\n",
    "- Evaluate the model on different thresholds\n",
    "- Check the accuracy of dummy baselines"
   ]
  },
  {
   "cell_type": "markdown",
   "id": "20871cc0-14e9-4ca7-8e55-2e666f1c0610",
   "metadata": {},
   "source": [
    "In our previous calculations we used 0.5 as a threshold to check how many predictions were correct. Now lets check if 0.5 was the correct value or if any other value would have been better"
   ]
  },
  {
   "cell_type": "code",
   "execution_count": 105,
   "id": "34c5913f-3346-4802-9e08-5f6428271d98",
   "metadata": {},
   "outputs": [
    {
     "data": {
      "text/plain": [
       "array([0.  , 0.05, 0.1 , 0.15, 0.2 , 0.25, 0.3 , 0.35, 0.4 , 0.45, 0.5 ,\n",
       "       0.55, 0.6 , 0.65, 0.7 , 0.75, 0.8 , 0.85, 0.9 , 0.95, 1.  ])"
      ]
     },
     "execution_count": 105,
     "metadata": {},
     "output_type": "execute_result"
    }
   ],
   "source": [
    "threshold = np.linspace(0,1,21)\n",
    "threshold"
   ]
  },
  {
   "cell_type": "code",
   "execution_count": 106,
   "id": "04ba7d45-b7a1-46d0-b35d-efb5492119c0",
   "metadata": {},
   "outputs": [
    {
     "name": "stdout",
     "output_type": "stream",
     "text": [
      "0.00 0.274\n",
      "0.05 0.509\n",
      "0.10 0.598\n",
      "0.15 0.664\n",
      "0.20 0.707\n",
      "0.25 0.737\n",
      "0.30 0.759\n",
      "0.35 0.766\n",
      "0.40 0.780\n",
      "0.45 0.793\n",
      "0.50 0.801\n",
      "0.55 0.798\n",
      "0.60 0.797\n",
      "0.65 0.784\n",
      "0.70 0.765\n",
      "0.75 0.744\n",
      "0.80 0.730\n",
      "0.85 0.726\n",
      "0.90 0.726\n",
      "0.95 0.726\n",
      "1.00 0.726\n"
     ]
    }
   ],
   "source": [
    "scores = []\n",
    "for t in threshold:\n",
    "    churn_decision = (y_pred >= t)\n",
    "    score = (y_val == churn_decision).mean()\n",
    "    print('%.2f %.3f' %(t,score))\n",
    "    scores.append(score)"
   ]
  },
  {
   "cell_type": "code",
   "execution_count": 107,
   "id": "12fd2d9d-d40a-494a-9ba9-abe7d3c0fe51",
   "metadata": {},
   "outputs": [
    {
     "data": {
      "text/plain": [
       "[<matplotlib.lines.Line2D at 0x7900683bd100>]"
      ]
     },
     "execution_count": 107,
     "metadata": {},
     "output_type": "execute_result"
    },
    {
     "data": {
      "image/png": "[encoded data removed]",
      "text/plain": [
       "<Figure size 640x480 with 1 Axes>"
      ]
     },
     "metadata": {},
     "output_type": "display_data"
    }
   ],
   "source": [
    "plt.plot(threshold,scores)"
   ]
  },
  {
   "cell_type": "markdown",
   "id": "3854184c-651f-47c9-9779-284af10b9bd5",
   "metadata": {},
   "source": [
    "It turns out that the threshold of 0.5 was the best threshold"
   ]
  },
  {
   "cell_type": "markdown",
   "id": "95057cb1-f9b1-497e-87d0-0fea4622610a",
   "metadata": {},
   "source": [
    "We can use the accuracy score from scikit-learn's library to calculate the accuracy score "
   ]
  },
  {
   "cell_type": "code",
   "execution_count": 108,
   "id": "755dfc11-5cb6-4630-8c77-872cdb028a3e",
   "metadata": {},
   "outputs": [],
   "source": [
    "from sklearn.metrics import accuracy_score"
   ]
  },
  {
   "cell_type": "code",
   "execution_count": 109,
   "id": "cdbe6373-cd32-44a2-818c-bf5a0cc09c24",
   "metadata": {},
   "outputs": [
    {
     "data": {
      "text/plain": [
       "0.801277501774308"
      ]
     },
     "execution_count": 109,
     "metadata": {},
     "output_type": "execute_result"
    }
   ],
   "source": [
    "accuracy_score(y_val, y_pred >= 0.5)"
   ]
  },
  {
   "cell_type": "code",
   "execution_count": 110,
   "id": "83cb3800-fbf3-46a5-831e-70441507df18",
   "metadata": {},
   "outputs": [
    {
     "name": "stdout",
     "output_type": "stream",
     "text": [
      "0.00 0.274\n",
      "0.05 0.509\n",
      "0.10 0.598\n",
      "0.15 0.664\n",
      "0.20 0.707\n",
      "0.25 0.737\n",
      "0.30 0.759\n",
      "0.35 0.766\n",
      "0.40 0.780\n",
      "0.45 0.793\n",
      "0.50 0.801\n",
      "0.55 0.798\n",
      "0.60 0.797\n",
      "0.65 0.784\n",
      "0.70 0.765\n",
      "0.75 0.744\n",
      "0.80 0.730\n",
      "0.85 0.726\n",
      "0.90 0.726\n",
      "0.95 0.726\n",
      "1.00 0.726\n"
     ]
    }
   ],
   "source": [
    "scores = []\n",
    "for t in threshold:\n",
    "    score = accuracy_score(y_val, y_pred >= t)\n",
    "    print('%.2f %.3f' %(t,score))\n",
    "    scores.append(score)"
   ]
  },
  {
   "cell_type": "code",
   "execution_count": 111,
   "id": "36cb1288-c787-4bd8-a5f5-e08ee10b7159",
   "metadata": {},
   "outputs": [],
   "source": [
    "from collections import Counter"
   ]
  },
  {
   "cell_type": "code",
   "execution_count": 112,
   "id": "53c82533-8ac0-42f5-a343-c14f0753956a",
   "metadata": {},
   "outputs": [
    {
     "data": {
      "text/plain": [
       "Counter({np.False_: 1409})"
      ]
     },
     "execution_count": 112,
     "metadata": {},
     "output_type": "execute_result"
    }
   ],
   "source": [
    "Counter(y_pred >= 1.0)"
   ]
  },
  {
   "cell_type": "code",
   "execution_count": 113,
   "id": "a308e6ce-16ef-459c-a093-7631898dc09e",
   "metadata": {},
   "outputs": [
    {
     "data": {
      "text/plain": [
       "Counter({np.False_: 1023, np.True_: 386})"
      ]
     },
     "execution_count": 113,
     "metadata": {},
     "output_type": "execute_result"
    }
   ],
   "source": [
    "Counter(y_val >= 1.0)"
   ]
  },
  {
   "cell_type": "markdown",
   "id": "123763a1-0751-478f-938b-c9e52a9e1dbd",
   "metadata": {},
   "source": [
    "### Confusion Table\n",
    "- Different types of errors and correct decisions\n",
    "- Arranging them in a table"
   ]
  },
  {
   "cell_type": "code",
   "execution_count": 114,
   "id": "da9c6922-83a3-422f-9adf-06e6fe85f4e6",
   "metadata": {},
   "outputs": [],
   "source": [
    "actual_posivite = (y_val ==1)\n",
    "actual_negative = (y_val ==0)"
   ]
  },
  {
   "cell_type": "code",
   "execution_count": 115,
   "id": "e5e862fc-8980-427d-882f-27171405ae3f",
   "metadata": {},
   "outputs": [],
   "source": [
    "t = 0.5\n",
    "predict_positive = (y_pred >= t)\n",
    "predict_negative = (y_pred <t)"
   ]
  },
  {
   "cell_type": "code",
   "execution_count": 116,
   "id": "dccc2ad3-7c81-4e51-9f0b-4d4c978b6281",
   "metadata": {},
   "outputs": [],
   "source": [
    "tp = (predict_positive & actual_posivite).sum()"
   ]
  },
  {
   "cell_type": "code",
   "execution_count": 117,
   "id": "e80a9b5f-530e-4795-a3c9-6fc8a34eea3f",
   "metadata": {},
   "outputs": [
    {
     "data": {
      "text/plain": [
       "np.int64(915)"
      ]
     },
     "execution_count": 117,
     "metadata": {},
     "output_type": "execute_result"
    }
   ],
   "source": [
    "tn = (predict_negative & actual_negative).sum()\n",
    "tn"
   ]
  },
  {
   "cell_type": "code",
   "execution_count": 118,
   "id": "add12f39-8adc-4dce-a285-f025c6c37aed",
   "metadata": {},
   "outputs": [
    {
     "data": {
      "text/plain": [
       "np.int64(108)"
      ]
     },
     "execution_count": 118,
     "metadata": {},
     "output_type": "execute_result"
    }
   ],
   "source": [
    "fp = (predict_positive & actual_negative).sum()\n",
    "fp"
   ]
  },
  {
   "cell_type": "code",
   "execution_count": 119,
   "id": "3f541210-ef08-41ea-ba84-98ff4c4ea8b7",
   "metadata": {},
   "outputs": [
    {
     "data": {
      "text/plain": [
       "np.int64(172)"
      ]
     },
     "execution_count": 119,
     "metadata": {},
     "output_type": "execute_result"
    }
   ],
   "source": [
    "fn = (predict_negative & actual_posivite).sum()\n",
    "fn"
   ]
  },
  {
   "cell_type": "code",
   "execution_count": 120,
   "id": "488eaa07-d9f2-40bc-8590-36dc3482ce1e",
   "metadata": {},
   "outputs": [
    {
     "data": {
      "text/plain": [
       "array([[915, 108],\n",
       "       [172, 214]])"
      ]
     },
     "execution_count": 120,
     "metadata": {},
     "output_type": "execute_result"
    }
   ],
   "source": [
    "confusion_matrix = np.array([\n",
    "    [tn, fp],\n",
    "    [fn, tp]\n",
    "])\n",
    "confusion_matrix"
   ]
  },
  {
   "cell_type": "markdown",
   "id": "7a1d4652-625a-479f-b13d-a091dfb6fe05",
   "metadata": {},
   "source": [
    "### 4.4 Precision and Recall"
   ]
  },
  {
   "cell_type": "code",
   "execution_count": 121,
   "id": "9dbbe4d6-f9f4-4d8b-836b-23aaef5c0e12",
   "metadata": {},
   "outputs": [
    {
     "data": {
      "text/plain": [
       "array([ 5.27570093,  1.23387978, 10.4537037 ,  6.56395349])"
      ]
     },
     "execution_count": 121,
     "metadata": {},
     "output_type": "execute_result"
    }
   ],
   "source": [
    "Accuracy = (tp + tn) / (tp, tn, fp, fn)\n",
    "Accuracy"
   ]
  },
  {
   "cell_type": "code",
   "execution_count": 122,
   "id": "b29f6884-1621-4e55-8fe3-ab4fe86c0abd",
   "metadata": {},
   "outputs": [
    {
     "data": {
      "text/plain": [
       "np.float64(0.6645962732919255)"
      ]
     },
     "execution_count": 122,
     "metadata": {},
     "output_type": "execute_result"
    }
   ],
   "source": [
    "# Fraction of positive predictions that are correct\n",
    "precision = tp / (tp + fp)\n",
    "precision"
   ]
  },
  {
   "cell_type": "code",
   "execution_count": 123,
   "id": "44fb6e2a-01a0-4b8b-ae6c-fd453e051c4e",
   "metadata": {},
   "outputs": [
    {
     "data": {
      "text/plain": [
       "np.float64(0.5544041450777202)"
      ]
     },
     "execution_count": 123,
     "metadata": {},
     "output_type": "execute_result"
    }
   ],
   "source": [
    "# fraction of corectly identified positive examples (fraction of customers that we identified correctly over all the correct ones)  \n",
    "recall = tp / (tp + fn)\n",
    "recall"
   ]
  },
  {
   "cell_type": "markdown",
   "id": "2468c69a-9358-4a55-80d5-cdd2e0f72b91",
   "metadata": {},
   "source": [
    "In our dataset where we want to avoid churning customers.\n",
    "- With precision at 66%, there are 33% users that we are wrongly sending the promotional email \n",
    "- With recall at 55%, there are 45% that we not identifying as churning so we may lose these customers\n",
    "- So even though our accuracy was 80% doesn't mean our model was doing what we expected it to"
   ]
  },
  {
   "cell_type": "markdown",
   "id": "503d4f6a-bfca-49e8-a9b4-e5fce16898c4",
   "metadata": {},
   "source": [
    "### 4.5 ROC Curves: Receiver Operating Characteristic) \n",
    "The curve is a graphical plot that shows the performance of a binary classifier at various threshold settings.\n",
    "\n",
    "TPR (True Positive Rate) and FPR (False Positive Rate)\n",
    "\n",
    "We want to minimize the FPR and maximize the TPR"
   ]
  },
  {
   "cell_type": "code",
   "execution_count": 124,
   "id": "a1f13484-1e84-4192-adb6-e988b5b3a2bf",
   "metadata": {},
   "outputs": [
    {
     "data": {
      "text/plain": [
       "np.float64(0.5544041450777202)"
      ]
     },
     "execution_count": 124,
     "metadata": {},
     "output_type": "execute_result"
    }
   ],
   "source": [
    "tpr = (tp / (tp + fn))\n",
    "tpr"
   ]
  },
  {
   "cell_type": "code",
   "execution_count": 125,
   "id": "528bd2af-11c0-4ae4-ae0d-f229127ecda8",
   "metadata": {},
   "outputs": [
    {
     "data": {
      "text/plain": [
       "np.float64(0.10557184750733138)"
      ]
     },
     "execution_count": 125,
     "metadata": {},
     "output_type": "execute_result"
    }
   ],
   "source": [
    "fpr = fp/ (fp + tn)\n",
    "fpr"
   ]
  },
  {
   "cell_type": "code",
   "execution_count": 126,
   "id": "373d633e-9c15-4fc0-bcc1-77e21d00d54c",
   "metadata": {},
   "outputs": [],
   "source": [
    "scores = []\n",
    "thresholds = np.linspace(0,1,101)\n",
    "\n",
    "for t in thresholds:\n",
    "    actual_posivite = (y_val ==1)\n",
    "    actual_negative = (y_val ==0)\n",
    "\n",
    "    predict_positive = (y_pred >= t)\n",
    "    predict_negative = (y_pred <t)\n",
    "\n",
    "    tp = (predict_positive & actual_posivite).sum()\n",
    "    tn = (predict_negative & actual_negative).sum()\n",
    "\n",
    "    fp = (predict_positive & actual_negative).sum()\n",
    "    fn = (predict_negative & actual_posivite).sum()\n",
    "\n",
    "    scores.append((t, tp, tn, fp, fn))"
   ]
  },
  {
   "cell_type": "code",
   "execution_count": 127,
   "id": "da246e48-71db-4597-8f88-f90e08819a88",
   "metadata": {},
   "outputs": [
    {
     "data": {
      "text/plain": [
       "[(np.float64(0.0), np.int64(386), np.int64(0), np.int64(1023), np.int64(0)),\n",
       " (np.float64(0.01), np.int64(385), np.int64(120), np.int64(903), np.int64(1)),\n",
       " (np.float64(0.02), np.int64(384), np.int64(211), np.int64(812), np.int64(2)),\n",
       " (np.float64(0.03), np.int64(382), np.int64(270), np.int64(753), np.int64(4)),\n",
       " (np.float64(0.04), np.int64(380), np.int64(315), np.int64(708), np.int64(6)),\n",
       " (np.float64(0.05), np.int64(378), np.int64(339), np.int64(684), np.int64(8)),\n",
       " (np.float64(0.06), np.int64(376), np.int64(363), np.int64(660), np.int64(10)),\n",
       " (np.float64(0.07), np.int64(374), np.int64(392), np.int64(631), np.int64(12)),\n",
       " (np.float64(0.08), np.int64(371), np.int64(422), np.int64(601), np.int64(15)),\n",
       " (np.float64(0.09), np.int64(369), np.int64(454), np.int64(569), np.int64(17)),\n",
       " (np.float64(0.1), np.int64(367), np.int64(476), np.int64(547), np.int64(19)),\n",
       " (np.float64(0.11), np.int64(365), np.int64(503), np.int64(520), np.int64(21)),\n",
       " (np.float64(0.12), np.int64(363), np.int64(520), np.int64(503), np.int64(23)),\n",
       " (np.float64(0.13), np.int64(362), np.int64(542), np.int64(481), np.int64(24)),\n",
       " (np.float64(0.14), np.int64(357), np.int64(569), np.int64(454), np.int64(29)),\n",
       " (np.float64(0.15), np.int64(351), np.int64(584), np.int64(439), np.int64(35)),\n",
       " (np.float64(0.16), np.int64(348), np.int64(603), np.int64(420), np.int64(38)),\n",
       " (np.float64(0.17), np.int64(346), np.int64(624), np.int64(399), np.int64(40)),\n",
       " (np.float64(0.18), np.int64(345), np.int64(633), np.int64(390), np.int64(41)),\n",
       " (np.float64(0.19), np.int64(340), np.int64(651), np.int64(372), np.int64(46)),\n",
       " (np.float64(0.2), np.int64(334), np.int64(662), np.int64(361), np.int64(52)),\n",
       " (np.float64(0.21), np.int64(329), np.int64(673), np.int64(350), np.int64(57)),\n",
       " (np.float64(0.22), np.int64(327), np.int64(689), np.int64(334), np.int64(59)),\n",
       " (np.float64(0.23), np.int64(321), np.int64(705), np.int64(318), np.int64(65)),\n",
       " (np.float64(0.24), np.int64(317), np.int64(714), np.int64(309), np.int64(69)),\n",
       " (np.float64(0.25), np.int64(314), np.int64(725), np.int64(298), np.int64(72)),\n",
       " (np.float64(0.26), np.int64(310), np.int64(741), np.int64(282), np.int64(76)),\n",
       " (np.float64(0.27), np.int64(307), np.int64(752), np.int64(271), np.int64(79)),\n",
       " (np.float64(0.28), np.int64(301), np.int64(758), np.int64(265), np.int64(85)),\n",
       " (np.float64(0.29), np.int64(294), np.int64(771), np.int64(252), np.int64(92)),\n",
       " (np.float64(0.3), np.int64(291), np.int64(779), np.int64(244), np.int64(95)),\n",
       " (np.float64(0.31),\n",
       "  np.int64(283),\n",
       "  np.int64(786),\n",
       "  np.int64(237),\n",
       "  np.int64(103)),\n",
       " (np.float64(0.32),\n",
       "  np.int64(282),\n",
       "  np.int64(793),\n",
       "  np.int64(230),\n",
       "  np.int64(104)),\n",
       " (np.float64(0.33),\n",
       "  np.int64(277),\n",
       "  np.int64(796),\n",
       "  np.int64(227),\n",
       "  np.int64(109)),\n",
       " (np.float64(0.34),\n",
       "  np.int64(273),\n",
       "  np.int64(803),\n",
       "  np.int64(220),\n",
       "  np.int64(113)),\n",
       " (np.float64(0.35000000000000003),\n",
       "  np.int64(271),\n",
       "  np.int64(808),\n",
       "  np.int64(215),\n",
       "  np.int64(115)),\n",
       " (np.float64(0.36),\n",
       "  np.int64(269),\n",
       "  np.int64(813),\n",
       "  np.int64(210),\n",
       "  np.int64(117)),\n",
       " (np.float64(0.37),\n",
       "  np.int64(266),\n",
       "  np.int64(821),\n",
       "  np.int64(202),\n",
       "  np.int64(120)),\n",
       " (np.float64(0.38),\n",
       "  np.int64(263),\n",
       "  np.int64(829),\n",
       "  np.int64(194),\n",
       "  np.int64(123)),\n",
       " (np.float64(0.39),\n",
       "  np.int64(257),\n",
       "  np.int64(838),\n",
       "  np.int64(185),\n",
       "  np.int64(129)),\n",
       " (np.float64(0.4), np.int64(253), np.int64(846), np.int64(177), np.int64(133)),\n",
       " (np.float64(0.41000000000000003),\n",
       "  np.int64(250),\n",
       "  np.int64(858),\n",
       "  np.int64(165),\n",
       "  np.int64(136)),\n",
       " (np.float64(0.42),\n",
       "  np.int64(248),\n",
       "  np.int64(864),\n",
       "  np.int64(159),\n",
       "  np.int64(138)),\n",
       " (np.float64(0.43),\n",
       "  np.int64(241),\n",
       "  np.int64(873),\n",
       "  np.int64(150),\n",
       "  np.int64(145)),\n",
       " (np.float64(0.44),\n",
       "  np.int64(236),\n",
       "  np.int64(877),\n",
       "  np.int64(146),\n",
       "  np.int64(150)),\n",
       " (np.float64(0.45),\n",
       "  np.int64(234),\n",
       "  np.int64(884),\n",
       "  np.int64(139),\n",
       "  np.int64(152)),\n",
       " (np.float64(0.46),\n",
       "  np.int64(227),\n",
       "  np.int64(895),\n",
       "  np.int64(128),\n",
       "  np.int64(159)),\n",
       " (np.float64(0.47000000000000003),\n",
       "  np.int64(223),\n",
       "  np.int64(899),\n",
       "  np.int64(124),\n",
       "  np.int64(163)),\n",
       " (np.float64(0.48),\n",
       "  np.int64(220),\n",
       "  np.int64(904),\n",
       "  np.int64(119),\n",
       "  np.int64(166)),\n",
       " (np.float64(0.49),\n",
       "  np.int64(215),\n",
       "  np.int64(909),\n",
       "  np.int64(114),\n",
       "  np.int64(171)),\n",
       " (np.float64(0.5), np.int64(214), np.int64(915), np.int64(108), np.int64(172)),\n",
       " (np.float64(0.51), np.int64(208), np.int64(924), np.int64(99), np.int64(178)),\n",
       " (np.float64(0.52), np.int64(208), np.int64(929), np.int64(94), np.int64(178)),\n",
       " (np.float64(0.53), np.int64(201), np.int64(932), np.int64(91), np.int64(185)),\n",
       " (np.float64(0.54), np.int64(193), np.int64(935), np.int64(88), np.int64(193)),\n",
       " (np.float64(0.55), np.int64(188), np.int64(937), np.int64(86), np.int64(198)),\n",
       " (np.float64(0.56), np.int64(183), np.int64(946), np.int64(77), np.int64(203)),\n",
       " (np.float64(0.5700000000000001),\n",
       "  np.int64(177),\n",
       "  np.int64(951),\n",
       "  np.int64(72),\n",
       "  np.int64(209)),\n",
       " (np.float64(0.58), np.int64(173), np.int64(955), np.int64(68), np.int64(213)),\n",
       " (np.float64(0.59), np.int64(167), np.int64(963), np.int64(60), np.int64(219)),\n",
       " (np.float64(0.6), np.int64(153), np.int64(970), np.int64(53), np.int64(233)),\n",
       " (np.float64(0.61), np.int64(140), np.int64(975), np.int64(48), np.int64(246)),\n",
       " (np.float64(0.62), np.int64(135), np.int64(978), np.int64(45), np.int64(251)),\n",
       " (np.float64(0.63), np.int64(129), np.int64(982), np.int64(41), np.int64(257)),\n",
       " (np.float64(0.64), np.int64(124), np.int64(985), np.int64(38), np.int64(262)),\n",
       " (np.float64(0.65), np.int64(118), np.int64(987), np.int64(36), np.int64(268)),\n",
       " (np.float64(0.66), np.int64(112), np.int64(992), np.int64(31), np.int64(274)),\n",
       " (np.float64(0.67), np.int64(105), np.int64(996), np.int64(27), np.int64(281)),\n",
       " (np.float64(0.68), np.int64(92), np.int64(997), np.int64(26), np.int64(294)),\n",
       " (np.float64(0.6900000000000001),\n",
       "  np.int64(79),\n",
       "  np.int64(1003),\n",
       "  np.int64(20),\n",
       "  np.int64(307)),\n",
       " (np.float64(0.7000000000000001),\n",
       "  np.int64(69),\n",
       "  np.int64(1009),\n",
       "  np.int64(14),\n",
       "  np.int64(317)),\n",
       " (np.float64(0.71), np.int64(61), np.int64(1011), np.int64(12), np.int64(325)),\n",
       " (np.float64(0.72), np.int64(54), np.int64(1013), np.int64(10), np.int64(332)),\n",
       " (np.float64(0.73), np.int64(44), np.int64(1014), np.int64(9), np.int64(342)),\n",
       " (np.float64(0.74), np.int64(35), np.int64(1016), np.int64(7), np.int64(351)),\n",
       " (np.float64(0.75), np.int64(30), np.int64(1018), np.int64(5), np.int64(356)),\n",
       " (np.float64(0.76), np.int64(24), np.int64(1019), np.int64(4), np.int64(362)),\n",
       " (np.float64(0.77), np.int64(18), np.int64(1021), np.int64(2), np.int64(368)),\n",
       " (np.float64(0.78), np.int64(11), np.int64(1023), np.int64(0), np.int64(375)),\n",
       " (np.float64(0.79), np.int64(11), np.int64(1023), np.int64(0), np.int64(375)),\n",
       " (np.float64(0.8), np.int64(5), np.int64(1023), np.int64(0), np.int64(381)),\n",
       " (np.float64(0.81), np.int64(3), np.int64(1023), np.int64(0), np.int64(383)),\n",
       " (np.float64(0.8200000000000001),\n",
       "  np.int64(2),\n",
       "  np.int64(1023),\n",
       "  np.int64(0),\n",
       "  np.int64(384)),\n",
       " (np.float64(0.8300000000000001),\n",
       "  np.int64(0),\n",
       "  np.int64(1023),\n",
       "  np.int64(0),\n",
       "  np.int64(386)),\n",
       " (np.float64(0.84), np.int64(0), np.int64(1023), np.int64(0), np.int64(386)),\n",
       " (np.float64(0.85), np.int64(0), np.int64(1023), np.int64(0), np.int64(386)),\n",
       " (np.float64(0.86), np.int64(0), np.int64(1023), np.int64(0), np.int64(386)),\n",
       " (np.float64(0.87), np.int64(0), np.int64(1023), np.int64(0), np.int64(386)),\n",
       " (np.float64(0.88), np.int64(0), np.int64(1023), np.int64(0), np.int64(386)),\n",
       " (np.float64(0.89), np.int64(0), np.int64(1023), np.int64(0), np.int64(386)),\n",
       " (np.float64(0.9), np.int64(0), np.int64(1023), np.int64(0), np.int64(386)),\n",
       " (np.float64(0.91), np.int64(0), np.int64(1023), np.int64(0), np.int64(386)),\n",
       " (np.float64(0.92), np.int64(0), np.int64(1023), np.int64(0), np.int64(386)),\n",
       " (np.float64(0.93), np.int64(0), np.int64(1023), np.int64(0), np.int64(386)),\n",
       " (np.float64(0.9400000000000001),\n",
       "  np.int64(0),\n",
       "  np.int64(1023),\n",
       "  np.int64(0),\n",
       "  np.int64(386)),\n",
       " (np.float64(0.9500000000000001),\n",
       "  np.int64(0),\n",
       "  np.int64(1023),\n",
       "  np.int64(0),\n",
       "  np.int64(386)),\n",
       " (np.float64(0.96), np.int64(0), np.int64(1023), np.int64(0), np.int64(386)),\n",
       " (np.float64(0.97), np.int64(0), np.int64(1023), np.int64(0), np.int64(386)),\n",
       " (np.float64(0.98), np.int64(0), np.int64(1023), np.int64(0), np.int64(386)),\n",
       " (np.float64(0.99), np.int64(0), np.int64(1023), np.int64(0), np.int64(386)),\n",
       " (np.float64(1.0), np.int64(0), np.int64(1023), np.int64(0), np.int64(386))]"
      ]
     },
     "execution_count": 127,
     "metadata": {},
     "output_type": "execute_result"
    }
   ],
   "source": [
    "scores"
   ]
  },
  {
   "cell_type": "code",
   "execution_count": 128,
   "id": "3cfd43b8-e83a-4e1b-9590-1abd2363fa31",
   "metadata": {},
   "outputs": [],
   "source": [
    "columns = ['thresholds', 'tp', 'tn', 'fp', 'fn']\n",
    "df_scores = pd.DataFrame(scores, columns=columns)"
   ]
  },
  {
   "cell_type": "code",
   "execution_count": 129,
   "id": "79c312ed-1a90-40e9-b989-7524129e68c5",
   "metadata": {},
   "outputs": [
    {
     "data": {
      "text/html": [
       "<div>\n",
       "<style scoped>\n",
       "    .dataframe tbody tr th:only-of-type {\n",
       "        vertical-align: middle;\n",
       "    }\n",
       "\n",
       "    .dataframe tbody tr th {\n",
       "        vertical-align: top;\n",
       "    }\n",
       "\n",
       "    .dataframe thead th {\n",
       "        text-align: right;\n",
       "    }\n",
       "</style>\n",
       "<table border=\"1\" class=\"dataframe\">\n",
       "  <thead>\n",
       "    <tr style=\"text-align: right;\">\n",
       "      <th></th>\n",
       "      <th>thresholds</th>\n",
       "      <th>tp</th>\n",
       "      <th>tn</th>\n",
       "      <th>fp</th>\n",
       "      <th>fn</th>\n",
       "    </tr>\n",
       "  </thead>\n",
       "  <tbody>\n",
       "    <tr>\n",
       "      <th>0</th>\n",
       "      <td>0.0</td>\n",
       "      <td>386</td>\n",
       "      <td>0</td>\n",
       "      <td>1023</td>\n",
       "      <td>0</td>\n",
       "    </tr>\n",
       "    <tr>\n",
       "      <th>10</th>\n",
       "      <td>0.1</td>\n",
       "      <td>367</td>\n",
       "      <td>476</td>\n",
       "      <td>547</td>\n",
       "      <td>19</td>\n",
       "    </tr>\n",
       "    <tr>\n",
       "      <th>20</th>\n",
       "      <td>0.2</td>\n",
       "      <td>334</td>\n",
       "      <td>662</td>\n",
       "      <td>361</td>\n",
       "      <td>52</td>\n",
       "    </tr>\n",
       "    <tr>\n",
       "      <th>30</th>\n",
       "      <td>0.3</td>\n",
       "      <td>291</td>\n",
       "      <td>779</td>\n",
       "      <td>244</td>\n",
       "      <td>95</td>\n",
       "    </tr>\n",
       "    <tr>\n",
       "      <th>40</th>\n",
       "      <td>0.4</td>\n",
       "      <td>253</td>\n",
       "      <td>846</td>\n",
       "      <td>177</td>\n",
       "      <td>133</td>\n",
       "    </tr>\n",
       "    <tr>\n",
       "      <th>50</th>\n",
       "      <td>0.5</td>\n",
       "      <td>214</td>\n",
       "      <td>915</td>\n",
       "      <td>108</td>\n",
       "      <td>172</td>\n",
       "    </tr>\n",
       "    <tr>\n",
       "      <th>60</th>\n",
       "      <td>0.6</td>\n",
       "      <td>153</td>\n",
       "      <td>970</td>\n",
       "      <td>53</td>\n",
       "      <td>233</td>\n",
       "    </tr>\n",
       "    <tr>\n",
       "      <th>70</th>\n",
       "      <td>0.7</td>\n",
       "      <td>69</td>\n",
       "      <td>1009</td>\n",
       "      <td>14</td>\n",
       "      <td>317</td>\n",
       "    </tr>\n",
       "    <tr>\n",
       "      <th>80</th>\n",
       "      <td>0.8</td>\n",
       "      <td>5</td>\n",
       "      <td>1023</td>\n",
       "      <td>0</td>\n",
       "      <td>381</td>\n",
       "    </tr>\n",
       "    <tr>\n",
       "      <th>90</th>\n",
       "      <td>0.9</td>\n",
       "      <td>0</td>\n",
       "      <td>1023</td>\n",
       "      <td>0</td>\n",
       "      <td>386</td>\n",
       "    </tr>\n",
       "    <tr>\n",
       "      <th>100</th>\n",
       "      <td>1.0</td>\n",
       "      <td>0</td>\n",
       "      <td>1023</td>\n",
       "      <td>0</td>\n",
       "      <td>386</td>\n",
       "    </tr>\n",
       "  </tbody>\n",
       "</table>\n",
       "</div>"
      ],
      "text/plain": [
       "     thresholds   tp    tn    fp   fn\n",
       "0           0.0  386     0  1023    0\n",
       "10          0.1  367   476   547   19\n",
       "20          0.2  334   662   361   52\n",
       "30          0.3  291   779   244   95\n",
       "40          0.4  253   846   177  133\n",
       "50          0.5  214   915   108  172\n",
       "60          0.6  153   970    53  233\n",
       "70          0.7   69  1009    14  317\n",
       "80          0.8    5  1023     0  381\n",
       "90          0.9    0  1023     0  386\n",
       "100         1.0    0  1023     0  386"
      ]
     },
     "execution_count": 129,
     "metadata": {},
     "output_type": "execute_result"
    }
   ],
   "source": [
    "df_scores[::10]"
   ]
  },
  {
   "cell_type": "code",
   "execution_count": 130,
   "id": "c24d5df3-e5dd-4f49-80f5-97e58656aa6c",
   "metadata": {},
   "outputs": [],
   "source": [
    "df_scores['tpr'] = (df_scores.tp / (df_scores.tp +df_scores.fn))\n",
    "df_scores['fpr'] = df_scores.fp/ (df_scores.fp + df_scores.tn)"
   ]
  },
  {
   "cell_type": "code",
   "execution_count": 131,
   "id": "e502f9fa-f5de-4d4a-8abd-991762f18e69",
   "metadata": {},
   "outputs": [
    {
     "data": {
      "text/html": [
       "<div>\n",
       "<style scoped>\n",
       "    .dataframe tbody tr th:only-of-type {\n",
       "        vertical-align: middle;\n",
       "    }\n",
       "\n",
       "    .dataframe tbody tr th {\n",
       "        vertical-align: top;\n",
       "    }\n",
       "\n",
       "    .dataframe thead th {\n",
       "        text-align: right;\n",
       "    }\n",
       "</style>\n",
       "<table border=\"1\" class=\"dataframe\">\n",
       "  <thead>\n",
       "    <tr style=\"text-align: right;\">\n",
       "      <th></th>\n",
       "      <th>thresholds</th>\n",
       "      <th>tp</th>\n",
       "      <th>tn</th>\n",
       "      <th>fp</th>\n",
       "      <th>fn</th>\n",
       "      <th>tpr</th>\n",
       "      <th>fpr</th>\n",
       "    </tr>\n",
       "  </thead>\n",
       "  <tbody>\n",
       "    <tr>\n",
       "      <th>0</th>\n",
       "      <td>0.0</td>\n",
       "      <td>386</td>\n",
       "      <td>0</td>\n",
       "      <td>1023</td>\n",
       "      <td>0</td>\n",
       "      <td>1.000000</td>\n",
       "      <td>1.000000</td>\n",
       "    </tr>\n",
       "    <tr>\n",
       "      <th>10</th>\n",
       "      <td>0.1</td>\n",
       "      <td>367</td>\n",
       "      <td>476</td>\n",
       "      <td>547</td>\n",
       "      <td>19</td>\n",
       "      <td>0.950777</td>\n",
       "      <td>0.534702</td>\n",
       "    </tr>\n",
       "    <tr>\n",
       "      <th>20</th>\n",
       "      <td>0.2</td>\n",
       "      <td>334</td>\n",
       "      <td>662</td>\n",
       "      <td>361</td>\n",
       "      <td>52</td>\n",
       "      <td>0.865285</td>\n",
       "      <td>0.352884</td>\n",
       "    </tr>\n",
       "    <tr>\n",
       "      <th>30</th>\n",
       "      <td>0.3</td>\n",
       "      <td>291</td>\n",
       "      <td>779</td>\n",
       "      <td>244</td>\n",
       "      <td>95</td>\n",
       "      <td>0.753886</td>\n",
       "      <td>0.238514</td>\n",
       "    </tr>\n",
       "    <tr>\n",
       "      <th>40</th>\n",
       "      <td>0.4</td>\n",
       "      <td>253</td>\n",
       "      <td>846</td>\n",
       "      <td>177</td>\n",
       "      <td>133</td>\n",
       "      <td>0.655440</td>\n",
       "      <td>0.173021</td>\n",
       "    </tr>\n",
       "    <tr>\n",
       "      <th>50</th>\n",
       "      <td>0.5</td>\n",
       "      <td>214</td>\n",
       "      <td>915</td>\n",
       "      <td>108</td>\n",
       "      <td>172</td>\n",
       "      <td>0.554404</td>\n",
       "      <td>0.105572</td>\n",
       "    </tr>\n",
       "    <tr>\n",
       "      <th>60</th>\n",
       "      <td>0.6</td>\n",
       "      <td>153</td>\n",
       "      <td>970</td>\n",
       "      <td>53</td>\n",
       "      <td>233</td>\n",
       "      <td>0.396373</td>\n",
       "      <td>0.051808</td>\n",
       "    </tr>\n",
       "    <tr>\n",
       "      <th>70</th>\n",
       "      <td>0.7</td>\n",
       "      <td>69</td>\n",
       "      <td>1009</td>\n",
       "      <td>14</td>\n",
       "      <td>317</td>\n",
       "      <td>0.178756</td>\n",
       "      <td>0.013685</td>\n",
       "    </tr>\n",
       "    <tr>\n",
       "      <th>80</th>\n",
       "      <td>0.8</td>\n",
       "      <td>5</td>\n",
       "      <td>1023</td>\n",
       "      <td>0</td>\n",
       "      <td>381</td>\n",
       "      <td>0.012953</td>\n",
       "      <td>0.000000</td>\n",
       "    </tr>\n",
       "    <tr>\n",
       "      <th>90</th>\n",
       "      <td>0.9</td>\n",
       "      <td>0</td>\n",
       "      <td>1023</td>\n",
       "      <td>0</td>\n",
       "      <td>386</td>\n",
       "      <td>0.000000</td>\n",
       "      <td>0.000000</td>\n",
       "    </tr>\n",
       "    <tr>\n",
       "      <th>100</th>\n",
       "      <td>1.0</td>\n",
       "      <td>0</td>\n",
       "      <td>1023</td>\n",
       "      <td>0</td>\n",
       "      <td>386</td>\n",
       "      <td>0.000000</td>\n",
       "      <td>0.000000</td>\n",
       "    </tr>\n",
       "  </tbody>\n",
       "</table>\n",
       "</div>"
      ],
      "text/plain": [
       "     thresholds   tp    tn    fp   fn       tpr       fpr\n",
       "0           0.0  386     0  1023    0  1.000000  1.000000\n",
       "10          0.1  367   476   547   19  0.950777  0.534702\n",
       "20          0.2  334   662   361   52  0.865285  0.352884\n",
       "30          0.3  291   779   244   95  0.753886  0.238514\n",
       "40          0.4  253   846   177  133  0.655440  0.173021\n",
       "50          0.5  214   915   108  172  0.554404  0.105572\n",
       "60          0.6  153   970    53  233  0.396373  0.051808\n",
       "70          0.7   69  1009    14  317  0.178756  0.013685\n",
       "80          0.8    5  1023     0  381  0.012953  0.000000\n",
       "90          0.9    0  1023     0  386  0.000000  0.000000\n",
       "100         1.0    0  1023     0  386  0.000000  0.000000"
      ]
     },
     "execution_count": 131,
     "metadata": {},
     "output_type": "execute_result"
    }
   ],
   "source": [
    "df_scores[::10]"
   ]
  },
  {
   "cell_type": "code",
   "execution_count": 132,
   "id": "0591a175-150c-43c1-9fe0-c0f23b3920e0",
   "metadata": {},
   "outputs": [
    {
     "data": {
      "text/plain": [
       "<matplotlib.legend.Legend at 0x79006836f110>"
      ]
     },
     "execution_count": 132,
     "metadata": {},
     "output_type": "execute_result"
    },
    {
     "data": {
      "image/png": "[encoded data removed]",
      "text/plain": [
       "<Figure size 640x480 with 1 Axes>"
      ]
     },
     "metadata": {},
     "output_type": "display_data"
    }
   ],
   "source": [
    "plt.plot(df_scores.thresholds, df_scores['tpr'], label='TPR')\n",
    "plt.plot(df_scores.thresholds, df_scores['fpr'], label='FPR')\n",
    "plt.legend()"
   ]
  },
  {
   "cell_type": "markdown",
   "id": "6b83a0c0-25ba-4ce4-bb92-2c7e129f76cf",
   "metadata": {},
   "source": [
    "### Random Model"
   ]
  },
  {
   "cell_type": "code",
   "execution_count": 133,
   "id": "5cc76124-e457-45a3-8039-c4f510d7a56e",
   "metadata": {},
   "outputs": [],
   "source": [
    "np.random.seed(1)\n",
    "y_rand = np.random.uniform(0,1,size=len(y_val))"
   ]
  },
  {
   "cell_type": "code",
   "execution_count": 134,
   "id": "c54f70b9-244f-4445-841b-fba991092c25",
   "metadata": {},
   "outputs": [
    {
     "data": {
      "text/plain": [
       "array([0.417, 0.72 , 0.   , ..., 0.774, 0.334, 0.089], shape=(1409,))"
      ]
     },
     "execution_count": 134,
     "metadata": {},
     "output_type": "execute_result"
    }
   ],
   "source": [
    "y_rand.round(3)"
   ]
  },
  {
   "cell_type": "code",
   "execution_count": 135,
   "id": "90a98976-8f03-4341-930c-a61b58fb9424",
   "metadata": {},
   "outputs": [
    {
     "data": {
      "text/plain": [
       "np.float64(0.5017743080198722)"
      ]
     },
     "execution_count": 135,
     "metadata": {},
     "output_type": "execute_result"
    }
   ],
   "source": [
    "((y_rand >=0.5) == y_val).mean()"
   ]
  },
  {
   "cell_type": "code",
   "execution_count": 136,
   "id": "d67cd8cf-5a68-4c47-b06e-90634c7acd62",
   "metadata": {},
   "outputs": [],
   "source": [
    "def tpr_fpr_dataframe(y_val, y_pred):\n",
    "    scores = []\n",
    "    thresholds = np.linspace(0,1,101)\n",
    "\n",
    "    for t in thresholds:\n",
    "        actual_posivite = (y_val ==1)\n",
    "        actual_negative = (y_val ==0)\n",
    "    \n",
    "        predict_positive = (y_pred >= t)\n",
    "        predict_negative = (y_pred <t)\n",
    "    \n",
    "        tp = (predict_positive & actual_posivite).sum()\n",
    "        tn = (predict_negative & actual_negative).sum()\n",
    "    \n",
    "        fp = (predict_positive & actual_negative).sum()\n",
    "        fn = (predict_negative & actual_posivite).sum()\n",
    "    \n",
    "        scores.append((t, tp, tn, fp, fn))\n",
    "\n",
    "    columns = ['thresholds', 'tp', 'tn', 'fp', 'fn']\n",
    "    df_scores = pd.DataFrame(scores, columns=columns)\n",
    "\n",
    "    df_scores['tpr'] = (df_scores.tp / (df_scores.tp +df_scores.fn))\n",
    "    df_scores['fpr'] = df_scores.fp/ (df_scores.fp + df_scores.tn)\n",
    "\n",
    "    return df_scores"
   ]
  },
  {
   "cell_type": "code",
   "execution_count": 137,
   "id": "7567ac98-f4df-4b8e-bb81-cf1ca39a3c05",
   "metadata": {},
   "outputs": [],
   "source": [
    "df_rand = tpr_fpr_dataframe(y_val, y_rand)"
   ]
  },
  {
   "cell_type": "code",
   "execution_count": 138,
   "id": "5d21def6-f19d-4434-8dfe-a48d1a8db5af",
   "metadata": {},
   "outputs": [
    {
     "data": {
      "text/html": [
       "<div>\n",
       "<style scoped>\n",
       "    .dataframe tbody tr th:only-of-type {\n",
       "        vertical-align: middle;\n",
       "    }\n",
       "\n",
       "    .dataframe tbody tr th {\n",
       "        vertical-align: top;\n",
       "    }\n",
       "\n",
       "    .dataframe thead th {\n",
       "        text-align: right;\n",
       "    }\n",
       "</style>\n",
       "<table border=\"1\" class=\"dataframe\">\n",
       "  <thead>\n",
       "    <tr style=\"text-align: right;\">\n",
       "      <th></th>\n",
       "      <th>thresholds</th>\n",
       "      <th>tp</th>\n",
       "      <th>tn</th>\n",
       "      <th>fp</th>\n",
       "      <th>fn</th>\n",
       "      <th>tpr</th>\n",
       "      <th>fpr</th>\n",
       "    </tr>\n",
       "  </thead>\n",
       "  <tbody>\n",
       "    <tr>\n",
       "      <th>0</th>\n",
       "      <td>0.0</td>\n",
       "      <td>386</td>\n",
       "      <td>0</td>\n",
       "      <td>1023</td>\n",
       "      <td>0</td>\n",
       "      <td>1.000000</td>\n",
       "      <td>1.000000</td>\n",
       "    </tr>\n",
       "    <tr>\n",
       "      <th>10</th>\n",
       "      <td>0.1</td>\n",
       "      <td>347</td>\n",
       "      <td>100</td>\n",
       "      <td>923</td>\n",
       "      <td>39</td>\n",
       "      <td>0.898964</td>\n",
       "      <td>0.902248</td>\n",
       "    </tr>\n",
       "    <tr>\n",
       "      <th>20</th>\n",
       "      <td>0.2</td>\n",
       "      <td>307</td>\n",
       "      <td>201</td>\n",
       "      <td>822</td>\n",
       "      <td>79</td>\n",
       "      <td>0.795337</td>\n",
       "      <td>0.803519</td>\n",
       "    </tr>\n",
       "    <tr>\n",
       "      <th>30</th>\n",
       "      <td>0.3</td>\n",
       "      <td>276</td>\n",
       "      <td>299</td>\n",
       "      <td>724</td>\n",
       "      <td>110</td>\n",
       "      <td>0.715026</td>\n",
       "      <td>0.707722</td>\n",
       "    </tr>\n",
       "    <tr>\n",
       "      <th>40</th>\n",
       "      <td>0.4</td>\n",
       "      <td>237</td>\n",
       "      <td>399</td>\n",
       "      <td>624</td>\n",
       "      <td>149</td>\n",
       "      <td>0.613990</td>\n",
       "      <td>0.609971</td>\n",
       "    </tr>\n",
       "    <tr>\n",
       "      <th>50</th>\n",
       "      <td>0.5</td>\n",
       "      <td>202</td>\n",
       "      <td>505</td>\n",
       "      <td>518</td>\n",
       "      <td>184</td>\n",
       "      <td>0.523316</td>\n",
       "      <td>0.506354</td>\n",
       "    </tr>\n",
       "    <tr>\n",
       "      <th>60</th>\n",
       "      <td>0.6</td>\n",
       "      <td>161</td>\n",
       "      <td>614</td>\n",
       "      <td>409</td>\n",
       "      <td>225</td>\n",
       "      <td>0.417098</td>\n",
       "      <td>0.399804</td>\n",
       "    </tr>\n",
       "    <tr>\n",
       "      <th>70</th>\n",
       "      <td>0.7</td>\n",
       "      <td>121</td>\n",
       "      <td>721</td>\n",
       "      <td>302</td>\n",
       "      <td>265</td>\n",
       "      <td>0.313472</td>\n",
       "      <td>0.295210</td>\n",
       "    </tr>\n",
       "    <tr>\n",
       "      <th>80</th>\n",
       "      <td>0.8</td>\n",
       "      <td>78</td>\n",
       "      <td>817</td>\n",
       "      <td>206</td>\n",
       "      <td>308</td>\n",
       "      <td>0.202073</td>\n",
       "      <td>0.201369</td>\n",
       "    </tr>\n",
       "    <tr>\n",
       "      <th>90</th>\n",
       "      <td>0.9</td>\n",
       "      <td>40</td>\n",
       "      <td>922</td>\n",
       "      <td>101</td>\n",
       "      <td>346</td>\n",
       "      <td>0.103627</td>\n",
       "      <td>0.098729</td>\n",
       "    </tr>\n",
       "    <tr>\n",
       "      <th>100</th>\n",
       "      <td>1.0</td>\n",
       "      <td>0</td>\n",
       "      <td>1023</td>\n",
       "      <td>0</td>\n",
       "      <td>386</td>\n",
       "      <td>0.000000</td>\n",
       "      <td>0.000000</td>\n",
       "    </tr>\n",
       "  </tbody>\n",
       "</table>\n",
       "</div>"
      ],
      "text/plain": [
       "     thresholds   tp    tn    fp   fn       tpr       fpr\n",
       "0           0.0  386     0  1023    0  1.000000  1.000000\n",
       "10          0.1  347   100   923   39  0.898964  0.902248\n",
       "20          0.2  307   201   822   79  0.795337  0.803519\n",
       "30          0.3  276   299   724  110  0.715026  0.707722\n",
       "40          0.4  237   399   624  149  0.613990  0.609971\n",
       "50          0.5  202   505   518  184  0.523316  0.506354\n",
       "60          0.6  161   614   409  225  0.417098  0.399804\n",
       "70          0.7  121   721   302  265  0.313472  0.295210\n",
       "80          0.8   78   817   206  308  0.202073  0.201369\n",
       "90          0.9   40   922   101  346  0.103627  0.098729\n",
       "100         1.0    0  1023     0  386  0.000000  0.000000"
      ]
     },
     "execution_count": 138,
     "metadata": {},
     "output_type": "execute_result"
    }
   ],
   "source": [
    "df_rand[::10]"
   ]
  },
  {
   "cell_type": "code",
   "execution_count": 139,
   "id": "b7c6b4da-c289-4245-b1fb-24c7fe69187e",
   "metadata": {},
   "outputs": [
    {
     "data": {
      "text/plain": [
       "<matplotlib.legend.Legend at 0x7900726e0890>"
      ]
     },
     "execution_count": 139,
     "metadata": {},
     "output_type": "execute_result"
    },
    {
     "data": {
      "image/png": "[encoded data removed]",
      "text/plain": [
       "<Figure size 640x480 with 1 Axes>"
      ]
     },
     "metadata": {},
     "output_type": "display_data"
    }
   ],
   "source": [
    "plt.plot(df_rand.thresholds, df_rand['tpr'], label='TPR')\n",
    "plt.plot(df_rand.thresholds, df_rand['fpr'], label='FPR')\n",
    "plt.legend()"
   ]
  },
  {
   "cell_type": "markdown",
   "id": "41862ff8-96d4-4fa2-83aa-404d924830d6",
   "metadata": {},
   "source": [
    "### Ideal Model"
   ]
  },
  {
   "cell_type": "code",
   "execution_count": 140,
   "id": "ca1a2059-2dee-461a-b9e1-f727c5a29893",
   "metadata": {},
   "outputs": [
    {
     "data": {
      "text/plain": [
       "(np.int64(1023), np.int64(386))"
      ]
     },
     "execution_count": 140,
     "metadata": {},
     "output_type": "execute_result"
    }
   ],
   "source": [
    "num_neg = (y_val == 0).sum()\n",
    "num_pos = (y_val == 1).sum()\n",
    "num_neg, num_pos"
   ]
  },
  {
   "cell_type": "code",
   "execution_count": 141,
   "id": "1583b49a-ae06-48fb-a04b-ad9e9d285b85",
   "metadata": {},
   "outputs": [],
   "source": [
    "y_ideal = np.repeat([0,1], [num_neg, num_pos])"
   ]
  },
  {
   "cell_type": "code",
   "execution_count": 142,
   "id": "5a96ee90-7ae2-4941-afbc-e9d3da4cff2c",
   "metadata": {},
   "outputs": [],
   "source": [
    "y_ideal_pred = np.linspace(0,1,len(y_val))"
   ]
  },
  {
   "cell_type": "code",
   "execution_count": 143,
   "id": "1b983249-561c-4209-b5b4-0756b3a37cd6",
   "metadata": {},
   "outputs": [
    {
     "data": {
      "text/plain": [
       "np.float64(0.7260468417317246)"
      ]
     },
     "execution_count": 143,
     "metadata": {},
     "output_type": "execute_result"
    }
   ],
   "source": [
    "1- y_val.mean()"
   ]
  },
  {
   "cell_type": "code",
   "execution_count": 144,
   "id": "261a9631-7a3c-4f9a-a3bb-7edad9c6fc23",
   "metadata": {},
   "outputs": [
    {
     "data": {
      "text/plain": [
       "np.float64(1.0)"
      ]
     },
     "execution_count": 144,
     "metadata": {},
     "output_type": "execute_result"
    }
   ],
   "source": [
    "((y_ideal_pred >= 0.726)== y_ideal).mean()"
   ]
  },
  {
   "cell_type": "code",
   "execution_count": 145,
   "id": "7fe12f98-7eb8-442c-9923-fdb269cb0602",
   "metadata": {},
   "outputs": [],
   "source": [
    "df_ideal = tpr_fpr_dataframe(y_ideal, y_ideal_pred)"
   ]
  },
  {
   "cell_type": "code",
   "execution_count": 146,
   "id": "7a7beb7c-bccf-4caf-af45-d3370928ebdf",
   "metadata": {},
   "outputs": [
    {
     "data": {
      "text/html": [
       "<div>\n",
       "<style scoped>\n",
       "    .dataframe tbody tr th:only-of-type {\n",
       "        vertical-align: middle;\n",
       "    }\n",
       "\n",
       "    .dataframe tbody tr th {\n",
       "        vertical-align: top;\n",
       "    }\n",
       "\n",
       "    .dataframe thead th {\n",
       "        text-align: right;\n",
       "    }\n",
       "</style>\n",
       "<table border=\"1\" class=\"dataframe\">\n",
       "  <thead>\n",
       "    <tr style=\"text-align: right;\">\n",
       "      <th></th>\n",
       "      <th>thresholds</th>\n",
       "      <th>tp</th>\n",
       "      <th>tn</th>\n",
       "      <th>fp</th>\n",
       "      <th>fn</th>\n",
       "      <th>tpr</th>\n",
       "      <th>fpr</th>\n",
       "    </tr>\n",
       "  </thead>\n",
       "  <tbody>\n",
       "    <tr>\n",
       "      <th>0</th>\n",
       "      <td>0.0</td>\n",
       "      <td>386</td>\n",
       "      <td>0</td>\n",
       "      <td>1023</td>\n",
       "      <td>0</td>\n",
       "      <td>1.000000</td>\n",
       "      <td>1.000000</td>\n",
       "    </tr>\n",
       "    <tr>\n",
       "      <th>10</th>\n",
       "      <td>0.1</td>\n",
       "      <td>386</td>\n",
       "      <td>141</td>\n",
       "      <td>882</td>\n",
       "      <td>0</td>\n",
       "      <td>1.000000</td>\n",
       "      <td>0.862170</td>\n",
       "    </tr>\n",
       "    <tr>\n",
       "      <th>20</th>\n",
       "      <td>0.2</td>\n",
       "      <td>386</td>\n",
       "      <td>282</td>\n",
       "      <td>741</td>\n",
       "      <td>0</td>\n",
       "      <td>1.000000</td>\n",
       "      <td>0.724340</td>\n",
       "    </tr>\n",
       "    <tr>\n",
       "      <th>30</th>\n",
       "      <td>0.3</td>\n",
       "      <td>386</td>\n",
       "      <td>423</td>\n",
       "      <td>600</td>\n",
       "      <td>0</td>\n",
       "      <td>1.000000</td>\n",
       "      <td>0.586510</td>\n",
       "    </tr>\n",
       "    <tr>\n",
       "      <th>40</th>\n",
       "      <td>0.4</td>\n",
       "      <td>386</td>\n",
       "      <td>564</td>\n",
       "      <td>459</td>\n",
       "      <td>0</td>\n",
       "      <td>1.000000</td>\n",
       "      <td>0.448680</td>\n",
       "    </tr>\n",
       "    <tr>\n",
       "      <th>50</th>\n",
       "      <td>0.5</td>\n",
       "      <td>386</td>\n",
       "      <td>704</td>\n",
       "      <td>319</td>\n",
       "      <td>0</td>\n",
       "      <td>1.000000</td>\n",
       "      <td>0.311828</td>\n",
       "    </tr>\n",
       "    <tr>\n",
       "      <th>60</th>\n",
       "      <td>0.6</td>\n",
       "      <td>386</td>\n",
       "      <td>845</td>\n",
       "      <td>178</td>\n",
       "      <td>0</td>\n",
       "      <td>1.000000</td>\n",
       "      <td>0.173998</td>\n",
       "    </tr>\n",
       "    <tr>\n",
       "      <th>70</th>\n",
       "      <td>0.7</td>\n",
       "      <td>386</td>\n",
       "      <td>986</td>\n",
       "      <td>37</td>\n",
       "      <td>0</td>\n",
       "      <td>1.000000</td>\n",
       "      <td>0.036168</td>\n",
       "    </tr>\n",
       "    <tr>\n",
       "      <th>80</th>\n",
       "      <td>0.8</td>\n",
       "      <td>282</td>\n",
       "      <td>1023</td>\n",
       "      <td>0</td>\n",
       "      <td>104</td>\n",
       "      <td>0.730570</td>\n",
       "      <td>0.000000</td>\n",
       "    </tr>\n",
       "    <tr>\n",
       "      <th>90</th>\n",
       "      <td>0.9</td>\n",
       "      <td>141</td>\n",
       "      <td>1023</td>\n",
       "      <td>0</td>\n",
       "      <td>245</td>\n",
       "      <td>0.365285</td>\n",
       "      <td>0.000000</td>\n",
       "    </tr>\n",
       "    <tr>\n",
       "      <th>100</th>\n",
       "      <td>1.0</td>\n",
       "      <td>1</td>\n",
       "      <td>1023</td>\n",
       "      <td>0</td>\n",
       "      <td>385</td>\n",
       "      <td>0.002591</td>\n",
       "      <td>0.000000</td>\n",
       "    </tr>\n",
       "  </tbody>\n",
       "</table>\n",
       "</div>"
      ],
      "text/plain": [
       "     thresholds   tp    tn    fp   fn       tpr       fpr\n",
       "0           0.0  386     0  1023    0  1.000000  1.000000\n",
       "10          0.1  386   141   882    0  1.000000  0.862170\n",
       "20          0.2  386   282   741    0  1.000000  0.724340\n",
       "30          0.3  386   423   600    0  1.000000  0.586510\n",
       "40          0.4  386   564   459    0  1.000000  0.448680\n",
       "50          0.5  386   704   319    0  1.000000  0.311828\n",
       "60          0.6  386   845   178    0  1.000000  0.173998\n",
       "70          0.7  386   986    37    0  1.000000  0.036168\n",
       "80          0.8  282  1023     0  104  0.730570  0.000000\n",
       "90          0.9  141  1023     0  245  0.365285  0.000000\n",
       "100         1.0    1  1023     0  385  0.002591  0.000000"
      ]
     },
     "execution_count": 146,
     "metadata": {},
     "output_type": "execute_result"
    }
   ],
   "source": [
    "df_ideal[::10]"
   ]
  },
  {
   "cell_type": "code",
   "execution_count": 147,
   "id": "fca140be-3121-4122-9ede-857a660759bc",
   "metadata": {},
   "outputs": [
    {
     "data": {
      "text/plain": [
       "<matplotlib.legend.Legend at 0x790072875790>"
      ]
     },
     "execution_count": 147,
     "metadata": {},
     "output_type": "execute_result"
    },
    {
     "data": {
      "image/png": "[encoded data removed]",
      "text/plain": [
       "<Figure size 640x480 with 1 Axes>"
      ]
     },
     "metadata": {},
     "output_type": "display_data"
    }
   ],
   "source": [
    "plt.plot(df_ideal.thresholds, df_ideal['tpr'], label='TPR')\n",
    "plt.plot(df_ideal.thresholds, df_ideal['fpr'], label='FPR')\n",
    "plt.legend()"
   ]
  },
  {
   "cell_type": "markdown",
   "id": "1a3fe7ae-5614-4aaf-9c3e-beaf1741b36b",
   "metadata": {},
   "source": [
    "### Putting everything together"
   ]
  },
  {
   "cell_type": "code",
   "execution_count": 148,
   "id": "e0edb4b8-5be8-4307-9708-67a632aec84f",
   "metadata": {},
   "outputs": [
    {
     "data": {
      "text/plain": [
       "<matplotlib.legend.Legend at 0x7900727d4d70>"
      ]
     },
     "execution_count": 148,
     "metadata": {},
     "output_type": "execute_result"
    },
    {
     "data": {
      "image/png": "[encoded data removed]",
      "text/plain": [
       "<Figure size 640x480 with 1 Axes>"
      ]
     },
     "metadata": {},
     "output_type": "display_data"
    }
   ],
   "source": [
    "plt.plot(df_scores.thresholds, df_scores['tpr'], label='TPR')\n",
    "plt.plot(df_scores.thresholds, df_scores['fpr'], label='FPR')\n",
    "\n",
    "# plt.plot(df_rand.thresholds, df_rand['tpr'], label='TPR')\n",
    "# plt.plot(df_rand.thresholds, df_rand['fpr'], label='FPR')\n",
    "\n",
    "plt.plot(df_ideal.thresholds, df_ideal['tpr'], label='TPR',color='green')\n",
    "plt.plot(df_ideal.thresholds, df_ideal['fpr'], label='FPR',color='green')\n",
    "plt.legend()"
   ]
  },
  {
   "cell_type": "markdown",
   "id": "8d168016-850c-4602-b7dc-94a70809b98d",
   "metadata": {},
   "source": [
    "Lets plot the TPR and FPR"
   ]
  },
  {
   "cell_type": "code",
   "execution_count": 149,
   "id": "9730cc4b-e9aa-46f6-8dd9-fb5c01cccd22",
   "metadata": {},
   "outputs": [
    {
     "data": {
      "text/plain": [
       "<matplotlib.legend.Legend at 0x790072867a40>"
      ]
     },
     "execution_count": 149,
     "metadata": {},
     "output_type": "execute_result"
    },
    {
     "data": {
      "image/png": "[encoded data removed]",
      "text/plain": [
       "<Figure size 600x600 with 1 Axes>"
      ]
     },
     "metadata": {},
     "output_type": "display_data"
    }
   ],
   "source": [
    "plt.figure(figsize=(6,6))\n",
    "plt.plot(df_scores.fpr, df_scores.tpr, label='model')\n",
    "plt.plot(df_rand.fpr, df_rand.tpr, label='random')\n",
    "plt.plot(df_ideal.fpr, df_ideal.tpr, label='model')\n",
    "\n",
    "plt.xlabel('FPR')\n",
    "plt.ylabel('TPR')\n",
    "\n",
    "plt.legend()"
   ]
  },
  {
   "cell_type": "markdown",
   "id": "d4b24a34-f52a-40a9-8d3c-cfb57eaf246c",
   "metadata": {},
   "source": [
    "Usually for a ROC curve, we plot a random baseline i.e [0,1]"
   ]
  },
  {
   "cell_type": "code",
   "execution_count": 150,
   "id": "6e551f0b-36d1-41f3-919f-aa9eabc7167c",
   "metadata": {},
   "outputs": [
    {
     "data": {
      "text/plain": [
       "<matplotlib.legend.Legend at 0x790072ac8b30>"
      ]
     },
     "execution_count": 150,
     "metadata": {},
     "output_type": "execute_result"
    },
    {
     "data": {
      "image/png": "[encoded data removed]",
      "text/plain": [
       "<Figure size 600x600 with 1 Axes>"
      ]
     },
     "metadata": {},
     "output_type": "display_data"
    }
   ],
   "source": [
    "plt.figure(figsize=(6,6))\n",
    "plt.plot(df_scores.fpr, df_scores.tpr, label='model')\n",
    "plt.plot([0,1], [0,1], label='model')\n",
    "# plt.plot(df_rand.fpr, df_rand.tpr, label='random')\n",
    "plt.plot(df_ideal.fpr, df_ideal.tpr, label='model')\n",
    "\n",
    "plt.xlabel('FPR')\n",
    "plt.ylabel('TPR')\n",
    "\n",
    "plt.legend()"
   ]
  },
  {
   "cell_type": "code",
   "execution_count": 151,
   "id": "68ff1d41-6270-4147-a4ff-662a97646b90",
   "metadata": {},
   "outputs": [],
   "source": [
    "from sklearn.metrics import roc_curve"
   ]
  },
  {
   "cell_type": "code",
   "execution_count": 152,
   "id": "80c026f5-9bc3-4d3b-a27e-6d7eda651573",
   "metadata": {},
   "outputs": [],
   "source": [
    "fpr, tpr, thresh = roc_curve(y_val, y_pred)"
   ]
  },
  {
   "cell_type": "code",
   "execution_count": 153,
   "id": "14022c8e-83bb-4533-8476-b056e541cf1b",
   "metadata": {},
   "outputs": [
    {
     "data": {
      "text/plain": [
       "<matplotlib.legend.Legend at 0x790072a8ee40>"
      ]
     },
     "execution_count": 153,
     "metadata": {},
     "output_type": "execute_result"
    },
    {
     "data": {
      "image/png": "[encoded data removed]",
      "text/plain": [
       "<Figure size 500x500 with 1 Axes>"
      ]
     },
     "metadata": {},
     "output_type": "display_data"
    }
   ],
   "source": [
    "plt.figure(figsize=(5,5))\n",
    "plt.plot(fpr, tpr, label='model')\n",
    "plt.plot([0,1], [0,1], label='random', linestyle='--')\n",
    "\n",
    "plt.xlabel('FPR')\n",
    "plt.ylabel('TPR')\n",
    "\n",
    "plt.legend()"
   ]
  },
  {
   "cell_type": "markdown",
   "id": "e7b534eb-24fe-41eb-8b3a-28717d8d793d",
   "metadata": {},
   "source": [
    "### 4.6 ROC Area Under Curve (AUC)"
   ]
  },
  {
   "cell_type": "code",
   "execution_count": 154,
   "id": "43c231d1-18be-4e92-a1e1-af27c46f7bdb",
   "metadata": {},
   "outputs": [],
   "source": [
    "from sklearn.metrics import auc"
   ]
  },
  {
   "cell_type": "code",
   "execution_count": 155,
   "id": "0fadb0b0-6d3b-485f-94f1-aced979dd810",
   "metadata": {},
   "outputs": [
    {
     "data": {
      "text/plain": [
       "0.8445038720820102"
      ]
     },
     "execution_count": 155,
     "metadata": {},
     "output_type": "execute_result"
    }
   ],
   "source": [
    "auc(fpr, tpr)"
   ]
  },
  {
   "cell_type": "code",
   "execution_count": 156,
   "id": "211d7204-7dc1-45a6-9161-05d41faf4d46",
   "metadata": {},
   "outputs": [
    {
     "data": {
      "text/plain": [
       "0.8443696534119398"
      ]
     },
     "execution_count": 156,
     "metadata": {},
     "output_type": "execute_result"
    }
   ],
   "source": [
    "auc(df_scores.fpr, df_scores.tpr)"
   ]
  },
  {
   "cell_type": "code",
   "execution_count": 157,
   "id": "a3f7570e-ccf9-473b-8776-dae4d61a64cf",
   "metadata": {},
   "outputs": [
    {
     "data": {
      "text/plain": [
       "0.9999430203759136"
      ]
     },
     "execution_count": 157,
     "metadata": {},
     "output_type": "execute_result"
    }
   ],
   "source": [
    "auc(df_ideal.fpr, df_ideal.tpr)"
   ]
  },
  {
   "cell_type": "markdown",
   "id": "8c07d7a4-886d-4988-8656-4a6a3b5843b5",
   "metadata": {},
   "source": [
    "We can do the followind two lines with a package:\n",
    "\n",
    "fpr, tpr, thresh = roc_curve(y_val, y_pred)\n",
    "\n",
    "auc(fpr,tpr)"
   ]
  },
  {
   "cell_type": "code",
   "execution_count": 158,
   "id": "322dd319-4402-408d-af46-bce7b64fd607",
   "metadata": {},
   "outputs": [],
   "source": [
    "from sklearn.metrics import roc_auc_score"
   ]
  },
  {
   "cell_type": "code",
   "execution_count": 159,
   "id": "9f0fc022-de95-4741-8279-fd9aca025bbb",
   "metadata": {},
   "outputs": [
    {
     "data": {
      "text/plain": [
       "0.8445038720820102"
      ]
     },
     "execution_count": 159,
     "metadata": {},
     "output_type": "execute_result"
    }
   ],
   "source": [
    "roc_auc_score(y_val, y_pred)"
   ]
  },
  {
   "cell_type": "code",
   "execution_count": 160,
   "id": "1ec2c444-3045-4b0c-8f29-31754467087d",
   "metadata": {},
   "outputs": [],
   "source": [
    "neg = y_pred[y_val == 0]\n",
    "pos = y_pred[y_val == 1]"
   ]
  },
  {
   "cell_type": "code",
   "execution_count": 161,
   "id": "a1db3ba2-c349-43b3-9524-8c2a5ee72adb",
   "metadata": {},
   "outputs": [],
   "source": [
    "import random"
   ]
  },
  {
   "cell_type": "code",
   "execution_count": 162,
   "id": "2cc84bf2-188b-43ab-b332-3d7f1b9ebe84",
   "metadata": {},
   "outputs": [
    {
     "data": {
      "text/plain": [
       "(365, 220)"
      ]
     },
     "execution_count": 162,
     "metadata": {},
     "output_type": "execute_result"
    }
   ],
   "source": [
    "pos_ind = random.randint(0, len(pos) -1)\n",
    "neg_ind = random.randint(0, len(neg) -1)\n",
    "pos_ind, neg_ind"
   ]
  },
  {
   "cell_type": "code",
   "execution_count": 163,
   "id": "dbf7a4a0-9abe-4db1-b7d4-172e185c908b",
   "metadata": {},
   "outputs": [
    {
     "data": {
      "text/plain": [
       "0.84511"
      ]
     },
     "execution_count": 163,
     "metadata": {},
     "output_type": "execute_result"
    }
   ],
   "source": [
    "n = 100000\n",
    "success = 0\n",
    "\n",
    "for i in range(n):\n",
    "    pos_ind = random.randint(0, len(pos) -1)\n",
    "    neg_ind = random.randint(0, len(neg) -1)\n",
    "\n",
    "    if pos[pos_ind] > neg[neg_ind]:\n",
    "        success+= 1\n",
    "\n",
    "success/n"
   ]
  },
  {
   "cell_type": "code",
   "execution_count": 164,
   "id": "4bb7acba-6bbc-43d4-a2a0-7cb8e29145a9",
   "metadata": {},
   "outputs": [
    {
     "data": {
      "text/plain": [
       "(array([261, 200,   9, ..., 275,  63, 220], shape=(500000,)),\n",
       " array([886, 619, 387, ..., 424, 792, 392], shape=(500000,)))"
      ]
     },
     "execution_count": 164,
     "metadata": {},
     "output_type": "execute_result"
    }
   ],
   "source": [
    "n = 500000\n",
    "\n",
    "pos_ind = np.random.randint(0, len(pos), size=n)\n",
    "neg_ind = np.random.randint(0, len(neg), size=n)\n",
    "\n",
    "pos_ind, neg_ind"
   ]
  },
  {
   "cell_type": "code",
   "execution_count": 165,
   "id": "90abf2e7-548f-40a7-a394-f6555f2da222",
   "metadata": {},
   "outputs": [
    {
     "data": {
      "text/plain": [
       "np.float64(0.84404)"
      ]
     },
     "execution_count": 165,
     "metadata": {},
     "output_type": "execute_result"
    }
   ],
   "source": [
    "(pos[pos_ind] > neg[neg_ind]).mean()"
   ]
  },
  {
   "cell_type": "markdown",
   "id": "9847b585-5666-464c-921b-053e48960f9d",
   "metadata": {},
   "source": [
    "### 4.7 Cross Validation (Paramter Tuning)\n",
    "- Evaluating the same model on different dubsets of data\n",
    "- Getting the average prediction and the spread within predictions"
   ]
  },
  {
   "cell_type": "code",
   "execution_count": 186,
   "id": "9a190042-3a82-48ff-b526-ef4d1a1f8a90",
   "metadata": {},
   "outputs": [],
   "source": [
    "def train(df, y_train, C=1.0):\n",
    "    dicts = df[categorical + numerical].to_dict(orient='records')\n",
    "\n",
    "    dv = DictVectorizer(sparse=False)\n",
    "    X_train = dv.fit_transform(dicts)\n",
    "\n",
    "    model = LogisticRegression(C=C, max_iter=10000)\n",
    "    model.fit(X_train, y_train)\n",
    "\n",
    "    return dv, model"
   ]
  },
  {
   "cell_type": "code",
   "execution_count": 187,
   "id": "c5b31e08-7d16-417e-bd2b-bb015c247d30",
   "metadata": {},
   "outputs": [],
   "source": [
    "dv, model = train(df_train, y_train)"
   ]
  },
  {
   "cell_type": "code",
   "execution_count": 188,
   "id": "ae97db0d-4db5-427a-9c7d-f092e5915d67",
   "metadata": {},
   "outputs": [],
   "source": [
    "def predict(df, dv, model):\n",
    "    dicts = df[categorical + numerical].to_dict(orient='records')\n",
    "\n",
    "    X = dv.transform(dicts)\n",
    "    y_pred = model.predict_proba(X)[:, 1]\n",
    "\n",
    "    return y_pred"
   ]
  },
  {
   "cell_type": "code",
   "execution_count": 189,
   "id": "c17f0483-e719-4511-a180-bebec81bacf6",
   "metadata": {},
   "outputs": [
    {
     "data": {
      "text/plain": [
       "(array([0.00531839, 0.15577646, 0.00424002, ..., 0.75198311, 0.03124286,\n",
       "        0.00256252], shape=(1126,)),\n",
       " 1126)"
      ]
     },
     "execution_count": 189,
     "metadata": {},
     "output_type": "execute_result"
    }
   ],
   "source": [
    "y_pred = predict(df_val, dv, model)\n",
    "y_pred, len(y_pred)"
   ]
  },
  {
   "cell_type": "markdown",
   "id": "95e04b1a-2795-42cc-8926-4a8632416fa9",
   "metadata": {},
   "source": [
    "#### K fold cross validation"
   ]
  },
  {
   "cell_type": "code",
   "execution_count": 190,
   "id": "fd2d1724-6596-40bf-a097-961ab6f0a982",
   "metadata": {},
   "outputs": [],
   "source": [
    "from sklearn.model_selection import KFold"
   ]
  },
  {
   "cell_type": "code",
   "execution_count": 191,
   "id": "70b8b0ff-2ee9-40ed-b25f-f6078a9eedea",
   "metadata": {},
   "outputs": [],
   "source": [
    "kfold = KFold(n_splits=10, shuffle=True, random_state=1)"
   ]
  },
  {
   "cell_type": "code",
   "execution_count": 192,
   "id": "2c24b0df-eadf-4e9e-b2d5-66d180d41217",
   "metadata": {},
   "outputs": [],
   "source": [
    "train_idx, val_idx = next(kfold.split(df_full_train))"
   ]
  },
  {
   "cell_type": "code",
   "execution_count": 193,
   "id": "b666cefd-7809-43e7-93e8-8abd93b6e483",
   "metadata": {},
   "outputs": [
    {
     "data": {
      "text/plain": [
       "(5634, 5070, 564)"
      ]
     },
     "execution_count": 193,
     "metadata": {},
     "output_type": "execute_result"
    }
   ],
   "source": [
    "len(df_full_train), len(train_idx), len(val_idx)"
   ]
  },
  {
   "cell_type": "code",
   "execution_count": 194,
   "id": "711a085b-cd1f-4fd9-8ebf-6dcae738bf34",
   "metadata": {},
   "outputs": [],
   "source": [
    "df_train = df_full_train.iloc[train_idx]\n",
    "df_val = df_full_train.iloc[val_idx]"
   ]
  },
  {
   "cell_type": "markdown",
   "id": "69c883c6-9275-4b62-a86c-3bd1673e5821",
   "metadata": {},
   "source": [
    "!pip install tqdm"
   ]
  },
  {
   "cell_type": "code",
   "execution_count": 195,
   "id": "710b16da-6140-4fd1-8668-aa4a8d7ea9c5",
   "metadata": {},
   "outputs": [],
   "source": [
    "from tqdm.auto import tqdm"
   ]
  },
  {
   "cell_type": "code",
   "execution_count": 196,
   "id": "8ac5a843-9e12-420a-b956-c4de523aebce",
   "metadata": {},
   "outputs": [
    {
     "data": {
      "text/plain": [
       "564"
      ]
     },
     "execution_count": 196,
     "metadata": {},
     "output_type": "execute_result"
    }
   ],
   "source": [
    "y_val = df_val.churn.values\n",
    "len(y_val)"
   ]
  },
  {
   "cell_type": "code",
   "execution_count": 197,
   "id": "634411c8-5b62-4c0c-9498-1e7eac1bc607",
   "metadata": {},
   "outputs": [
    {
     "data": {
      "text/plain": [
       "564"
      ]
     },
     "execution_count": 197,
     "metadata": {},
     "output_type": "execute_result"
    }
   ],
   "source": [
    "y_pred = predict(df_val, dv, model)\n",
    "len(y_pred)"
   ]
  },
  {
   "cell_type": "code",
   "execution_count": 198,
   "id": "23bdacfe-57f9-46d4-98a1-c44d9c1bfcb4",
   "metadata": {},
   "outputs": [
    {
     "data": {
      "application/vnd.jupyter.widget-view+json": {
       "model_id": "76248b5995f240f0a5bc90d1ec98e836",
       "version_major": 2,
       "version_minor": 0
      },
      "text/plain": [
       "  0%|          | 0/6 [00:00<?, ?it/s]"
      ]
     },
     "metadata": {},
     "output_type": "display_data"
    },
    {
     "name": "stdout",
     "output_type": "stream",
     "text": [
      "0.001 0.825, +- 0.009\n",
      "0.01 0.840, +- 0.008\n",
      "0.1 0.842, +- 0.007\n",
      "1 0.842, +- 0.007\n",
      "5 0.842, +- 0.007\n",
      "10 0.842, +- 0.007\n"
     ]
    }
   ],
   "source": [
    "n_splits = 5\n",
    "\n",
    "for C in tqdm([0.001, 0.01, 0.1, 1, 5, 10]):          \n",
    "    scores = []\n",
    "\n",
    "    kfold = KFold(n_splits=n_splits, shuffle=True, random_state=1)\n",
    "    \n",
    "    # Now we will loop over the indexes\n",
    "    for train_idx, val_idx in kfold.split(df_full_train):\n",
    "        df_train = df_full_train.iloc[train_idx]\n",
    "        df_val = df_full_train.iloc[val_idx]\n",
    "    \n",
    "        y_train = df_train.churn.values\n",
    "        y_val = df_val.churn.values\n",
    "    \n",
    "        dv, model = train(df_train, y_train, C=C)\n",
    "        y_pred = predict(df_val, dv, model)\n",
    "    \n",
    "        auc = roc_auc_score(y_val, y_pred)\n",
    "        scores.append(auc)\n",
    "\n",
    "    print('%s %.3f, +- %.3f' % (C, np.mean(scores), np.std(scores)))"
   ]
  },
  {
   "cell_type": "code",
   "execution_count": 201,
   "id": "3eaa7da8-2e86-424f-abe2-6973868ab408",
   "metadata": {},
   "outputs": [
    {
     "data": {
      "text/plain": [
       "[0.8439646442841331,\n",
       " 0.8448115315852205,\n",
       " 0.833694561509131,\n",
       " 0.8348128637206625,\n",
       " 0.8516441278905589]"
      ]
     },
     "execution_count": 201,
     "metadata": {},
     "output_type": "execute_result"
    }
   ],
   "source": [
    "scores"
   ]
  },
  {
   "cell_type": "code",
   "execution_count": 200,
   "id": "e10b9734-a3e1-417e-9ab8-e1f0031d6a3d",
   "metadata": {},
   "outputs": [
    {
     "data": {
      "text/plain": [
       "0.8584032088573997"
      ]
     },
     "execution_count": 200,
     "metadata": {},
     "output_type": "execute_result"
    }
   ],
   "source": [
    "dv, model = train(df_full_train, df_full_train.churn.values, C=1)\n",
    "y_pred = predict(df_test, dv, model)\n",
    "auc = roc_auc_score(y_test, y_pred)\n",
    "auc"
   ]
  },
  {
   "cell_type": "code",
   "execution_count": null,
   "id": "c700efde-1c5f-4126-8387-3354eafde1ff",
   "metadata": {},
   "outputs": [],
   "source": []
  }
 ],
 "metadata": {
  "kernelspec": {
   "display_name": "Python 3 (ipykernel)",
   "language": "python",
   "name": "python3"
  },
  "language_info": {
   "codemirror_mode": {
    "name": "ipython",
    "version": 3
   },
   "file_extension": ".py",
   "mimetype": "text/x-python",
   "name": "python",
   "nbconvert_exporter": "python",
   "pygments_lexer": "ipython3",
   "version": "3.12.1"
  }
 },
 "nbformat": 4,
 "nbformat_minor": 5
}
